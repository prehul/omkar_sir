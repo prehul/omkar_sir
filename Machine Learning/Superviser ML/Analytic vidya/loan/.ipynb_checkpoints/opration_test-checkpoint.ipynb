{
 "cells": [
  {
   "cell_type": "code",
   "execution_count": 1,
   "metadata": {},
   "outputs": [],
   "source": [
    "import pandas as pd\n",
    "from sklearn import preprocessing\n",
    "\n"
   ]
  },
  {
   "cell_type": "code",
   "execution_count": 2,
   "metadata": {},
   "outputs": [],
   "source": [
    "df = pd.read_csv(r\"C:\\Users\\Rahul\\Desktop\\Data Science\\omkar sir\\Machine Learning\\Analytic vidya\\loan\\test_lAUu6dG.csv\")"
   ]
  },
  {
   "cell_type": "code",
   "execution_count": 3,
   "metadata": {},
   "outputs": [
    {
     "data": {
      "text/plain": [
       "(367, 12)"
      ]
     },
     "execution_count": 3,
     "metadata": {},
     "output_type": "execute_result"
    }
   ],
   "source": [
    "df.shape"
   ]
  },
  {
   "cell_type": "code",
   "execution_count": 27,
   "metadata": {},
   "outputs": [
    {
     "data": {
      "text/html": [
       "<div>\n",
       "<style scoped>\n",
       "    .dataframe tbody tr th:only-of-type {\n",
       "        vertical-align: middle;\n",
       "    }\n",
       "\n",
       "    .dataframe tbody tr th {\n",
       "        vertical-align: top;\n",
       "    }\n",
       "\n",
       "    .dataframe thead th {\n",
       "        text-align: right;\n",
       "    }\n",
       "</style>\n",
       "<table border=\"1\" class=\"dataframe\">\n",
       "  <thead>\n",
       "    <tr style=\"text-align: right;\">\n",
       "      <th></th>\n",
       "      <th>Loan_ID</th>\n",
       "      <th>Gender</th>\n",
       "      <th>Married</th>\n",
       "      <th>Dependents</th>\n",
       "      <th>Education</th>\n",
       "      <th>Self_Employed</th>\n",
       "      <th>ApplicantIncome</th>\n",
       "      <th>CoapplicantIncome</th>\n",
       "      <th>LoanAmount</th>\n",
       "      <th>Loan_Amount_Term</th>\n",
       "      <th>Credit_History</th>\n",
       "      <th>Property_Area</th>\n",
       "    </tr>\n",
       "  </thead>\n",
       "  <tbody>\n",
       "    <tr>\n",
       "      <th>0</th>\n",
       "      <td>0</td>\n",
       "      <td>1</td>\n",
       "      <td>1</td>\n",
       "      <td>0</td>\n",
       "      <td>0</td>\n",
       "      <td>0</td>\n",
       "      <td>5720</td>\n",
       "      <td>0</td>\n",
       "      <td>110.0</td>\n",
       "      <td>360.0</td>\n",
       "      <td>1.0</td>\n",
       "      <td>2</td>\n",
       "    </tr>\n",
       "    <tr>\n",
       "      <th>1</th>\n",
       "      <td>1</td>\n",
       "      <td>1</td>\n",
       "      <td>1</td>\n",
       "      <td>1</td>\n",
       "      <td>0</td>\n",
       "      <td>0</td>\n",
       "      <td>3076</td>\n",
       "      <td>1500</td>\n",
       "      <td>126.0</td>\n",
       "      <td>360.0</td>\n",
       "      <td>1.0</td>\n",
       "      <td>2</td>\n",
       "    </tr>\n",
       "    <tr>\n",
       "      <th>2</th>\n",
       "      <td>2</td>\n",
       "      <td>1</td>\n",
       "      <td>1</td>\n",
       "      <td>2</td>\n",
       "      <td>0</td>\n",
       "      <td>0</td>\n",
       "      <td>5000</td>\n",
       "      <td>1800</td>\n",
       "      <td>208.0</td>\n",
       "      <td>360.0</td>\n",
       "      <td>1.0</td>\n",
       "      <td>2</td>\n",
       "    </tr>\n",
       "    <tr>\n",
       "      <th>4</th>\n",
       "      <td>3</td>\n",
       "      <td>1</td>\n",
       "      <td>0</td>\n",
       "      <td>0</td>\n",
       "      <td>1</td>\n",
       "      <td>0</td>\n",
       "      <td>3276</td>\n",
       "      <td>0</td>\n",
       "      <td>78.0</td>\n",
       "      <td>360.0</td>\n",
       "      <td>1.0</td>\n",
       "      <td>2</td>\n",
       "    </tr>\n",
       "    <tr>\n",
       "      <th>5</th>\n",
       "      <td>4</td>\n",
       "      <td>1</td>\n",
       "      <td>1</td>\n",
       "      <td>0</td>\n",
       "      <td>1</td>\n",
       "      <td>1</td>\n",
       "      <td>2165</td>\n",
       "      <td>3422</td>\n",
       "      <td>152.0</td>\n",
       "      <td>360.0</td>\n",
       "      <td>1.0</td>\n",
       "      <td>2</td>\n",
       "    </tr>\n",
       "  </tbody>\n",
       "</table>\n",
       "</div>"
      ],
      "text/plain": [
       "   Loan_ID  Gender  Married  Dependents  Education  Self_Employed  \\\n",
       "0        0       1        1           0          0              0   \n",
       "1        1       1        1           1          0              0   \n",
       "2        2       1        1           2          0              0   \n",
       "4        3       1        0           0          1              0   \n",
       "5        4       1        1           0          1              1   \n",
       "\n",
       "   ApplicantIncome  CoapplicantIncome  LoanAmount  Loan_Amount_Term  \\\n",
       "0             5720                  0       110.0             360.0   \n",
       "1             3076               1500       126.0             360.0   \n",
       "2             5000               1800       208.0             360.0   \n",
       "4             3276                  0        78.0             360.0   \n",
       "5             2165               3422       152.0             360.0   \n",
       "\n",
       "   Credit_History  Property_Area  \n",
       "0             1.0              2  \n",
       "1             1.0              2  \n",
       "2             1.0              2  \n",
       "4             1.0              2  \n",
       "5             1.0              2  "
      ]
     },
     "execution_count": 27,
     "metadata": {},
     "output_type": "execute_result"
    }
   ],
   "source": [
    "df.head(5)"
   ]
  },
  {
   "cell_type": "code",
   "execution_count": 5,
   "metadata": {},
   "outputs": [
    {
     "data": {
      "text/plain": [
       "Loan_ID               0\n",
       "Gender               11\n",
       "Married               0\n",
       "Dependents           10\n",
       "Education             0\n",
       "Self_Employed        23\n",
       "ApplicantIncome       0\n",
       "CoapplicantIncome     0\n",
       "LoanAmount            5\n",
       "Loan_Amount_Term      6\n",
       "Credit_History       29\n",
       "Property_Area         0\n",
       "dtype: int64"
      ]
     },
     "execution_count": 5,
     "metadata": {},
     "output_type": "execute_result"
    }
   ],
   "source": [
    "df.isnull().sum()"
   ]
  },
  {
   "cell_type": "code",
   "execution_count": 6,
   "metadata": {},
   "outputs": [
    {
     "data": {
      "text/plain": [
       "Loan_ID               object\n",
       "Gender                object\n",
       "Married               object\n",
       "Dependents            object\n",
       "Education             object\n",
       "Self_Employed         object\n",
       "ApplicantIncome        int64\n",
       "CoapplicantIncome      int64\n",
       "LoanAmount           float64\n",
       "Loan_Amount_Term     float64\n",
       "Credit_History       float64\n",
       "Property_Area         object\n",
       "dtype: object"
      ]
     },
     "execution_count": 6,
     "metadata": {},
     "output_type": "execute_result"
    }
   ],
   "source": [
    "df.dtypes"
   ]
  },
  {
   "cell_type": "code",
   "execution_count": 7,
   "metadata": {},
   "outputs": [],
   "source": [
    "df.drop(columns=[\"Loan_ID\"], inplace=True)"
   ]
  },
  {
   "cell_type": "code",
   "execution_count": 8,
   "metadata": {},
   "outputs": [
    {
     "name": "stdout",
     "output_type": "stream",
     "text": [
      "Loan_ID -- ['LP001015' 'LP001022' 'LP001031' 'LP001035' 'LP001051' 'LP001054'\n",
      " 'LP001055' 'LP001056' 'LP001059' 'LP001067' 'LP001078' 'LP001082'\n",
      " 'LP001083' 'LP001094' 'LP001096' 'LP001099' 'LP001105' 'LP001107'\n",
      " 'LP001108' 'LP001115' 'LP001121' 'LP001124' 'LP001128' 'LP001135'\n",
      " 'LP001149' 'LP001153' 'LP001163' 'LP001169' 'LP001174' 'LP001176'\n",
      " 'LP001177' 'LP001183' 'LP001185' 'LP001187' 'LP001190' 'LP001203'\n",
      " 'LP001208' 'LP001210' 'LP001211' 'LP001219' 'LP001220' 'LP001221'\n",
      " 'LP001226' 'LP001230' 'LP001231' 'LP001232' 'LP001237' 'LP001242'\n",
      " 'LP001268' 'LP001270' 'LP001284' 'LP001287' 'LP001291' 'LP001298'\n",
      " 'LP001312' 'LP001313' 'LP001317' 'LP001321' 'LP001323' 'LP001324'\n",
      " 'LP001332' 'LP001335' 'LP001338' 'LP001347' 'LP001348' 'LP001351'\n",
      " 'LP001352' 'LP001358' 'LP001359' 'LP001361' 'LP001366' 'LP001368'\n",
      " 'LP001375' 'LP001380' 'LP001386' 'LP001400' 'LP001407' 'LP001413'\n",
      " 'LP001415' 'LP001419' 'LP001420' 'LP001428' 'LP001445' 'LP001446'\n",
      " 'LP001450' 'LP001452' 'LP001455' 'LP001466' 'LP001471' 'LP001472'\n",
      " 'LP001475' 'LP001483' 'LP001486' 'LP001490' 'LP001496' 'LP001499'\n",
      " 'LP001500' 'LP001501' 'LP001517' 'LP001527' 'LP001534' 'LP001542'\n",
      " 'LP001547' 'LP001548' 'LP001558' 'LP001561' 'LP001563' 'LP001567'\n",
      " 'LP001568' 'LP001573' 'LP001584' 'LP001587' 'LP001589' 'LP001591'\n",
      " 'LP001599' 'LP001601' 'LP001607' 'LP001611' 'LP001613' 'LP001622'\n",
      " 'LP001627' 'LP001650' 'LP001651' 'LP001652' 'LP001655' 'LP001660'\n",
      " 'LP001662' 'LP001663' 'LP001667' 'LP001695' 'LP001703' 'LP001718'\n",
      " 'LP001728' 'LP001735' 'LP001737' 'LP001739' 'LP001742' 'LP001757'\n",
      " 'LP001769' 'LP001771' 'LP001785' 'LP001787' 'LP001789' 'LP001791'\n",
      " 'LP001794' 'LP001797' 'LP001815' 'LP001817' 'LP001818' 'LP001822'\n",
      " 'LP001827' 'LP001831' 'LP001842' 'LP001853' 'LP001855' 'LP001857'\n",
      " 'LP001862' 'LP001867' 'LP001878' 'LP001881' 'LP001886' 'LP001906'\n",
      " 'LP001909' 'LP001911' 'LP001921' 'LP001923' 'LP001933' 'LP001943'\n",
      " 'LP001950' 'LP001959' 'LP001961' 'LP001973' 'LP001975' 'LP001979'\n",
      " 'LP001995' 'LP001999' 'LP002007' 'LP002009' 'LP002016' 'LP002017'\n",
      " 'LP002018' 'LP002027' 'LP002028' 'LP002042' 'LP002045' 'LP002046'\n",
      " 'LP002047' 'LP002056' 'LP002057' 'LP002059' 'LP002062' 'LP002064'\n",
      " 'LP002069' 'LP002070' 'LP002077' 'LP002083' 'LP002090' 'LP002096'\n",
      " 'LP002099' 'LP002102' 'LP002105' 'LP002107' 'LP002111' 'LP002117'\n",
      " 'LP002118' 'LP002123' 'LP002125' 'LP002148' 'LP002152' 'LP002165'\n",
      " 'LP002167' 'LP002168' 'LP002172' 'LP002176' 'LP002183' 'LP002184'\n",
      " 'LP002186' 'LP002192' 'LP002195' 'LP002208' 'LP002212' 'LP002240'\n",
      " 'LP002245' 'LP002253' 'LP002256' 'LP002257' 'LP002264' 'LP002270'\n",
      " 'LP002279' 'LP002286' 'LP002294' 'LP002298' 'LP002306' 'LP002310'\n",
      " 'LP002311' 'LP002316' 'LP002321' 'LP002325' 'LP002326' 'LP002329'\n",
      " 'LP002333' 'LP002339' 'LP002344' 'LP002346' 'LP002354' 'LP002355'\n",
      " 'LP002358' 'LP002360' 'LP002375' 'LP002376' 'LP002383' 'LP002385'\n",
      " 'LP002389' 'LP002394' 'LP002397' 'LP002399' 'LP002400' 'LP002402'\n",
      " 'LP002412' 'LP002415' 'LP002417' 'LP002420' 'LP002425' 'LP002433'\n",
      " 'LP002440' 'LP002441' 'LP002442' 'LP002445' 'LP002450' 'LP002471'\n",
      " 'LP002476' 'LP002482' 'LP002485' 'LP002495' 'LP002496' 'LP002523'\n",
      " 'LP002542' 'LP002550' 'LP002551' 'LP002553' 'LP002554' 'LP002561'\n",
      " 'LP002566' 'LP002568' 'LP002570' 'LP002572' 'LP002581' 'LP002584'\n",
      " 'LP002592' 'LP002593' 'LP002599' 'LP002604' 'LP002605' 'LP002609'\n",
      " 'LP002610' 'LP002612' 'LP002614' 'LP002630' 'LP002635' 'LP002639'\n",
      " 'LP002644' 'LP002651' 'LP002654' 'LP002657' 'LP002711' 'LP002712'\n",
      " 'LP002721' 'LP002735' 'LP002744' 'LP002745' 'LP002746' 'LP002747'\n",
      " 'LP002754' 'LP002759' 'LP002760' 'LP002766' 'LP002769' 'LP002774'\n",
      " 'LP002775' 'LP002781' 'LP002782' 'LP002786' 'LP002790' 'LP002791'\n",
      " 'LP002793' 'LP002802' 'LP002803' 'LP002805' 'LP002806' 'LP002816'\n",
      " 'LP002823' 'LP002825' 'LP002826' 'LP002843' 'LP002849' 'LP002850'\n",
      " 'LP002853' 'LP002856' 'LP002857' 'LP002858' 'LP002860' 'LP002867'\n",
      " 'LP002869' 'LP002870' 'LP002876' 'LP002878' 'LP002879' 'LP002885'\n",
      " 'LP002890' 'LP002891' 'LP002899' 'LP002901' 'LP002907' 'LP002920'\n",
      " 'LP002921' 'LP002932' 'LP002935' 'LP002952' 'LP002954' 'LP002962'\n",
      " 'LP002965' 'LP002969' 'LP002971' 'LP002975' 'LP002980' 'LP002986'\n",
      " 'LP002989']\n",
      "Gender -- ['Male' 'Female' nan]\n",
      "Married -- ['Yes' 'No']\n",
      "Dependents -- ['0' '1' '2' '3+' nan]\n",
      "Education -- ['Graduate' 'Not Graduate']\n",
      "Self_Employed -- ['No' 'Yes' nan]\n",
      "Property_Area -- ['Urban' 'Semiurban' 'Rural']\n"
     ]
    }
   ],
   "source": [
    "for i in df.select_dtypes(include='object').columns.to_list():\n",
    "    print(f\"{i} -- { df[i].unique() }\")"
   ]
  },
  {
   "cell_type": "code",
   "execution_count": 9,
   "metadata": {},
   "outputs": [
    {
     "data": {
      "text/plain": [
       "array(['Male', 'Female'], dtype=object)"
      ]
     },
     "execution_count": 9,
     "metadata": {},
     "output_type": "execute_result"
    }
   ],
   "source": [
    "df['Gender'].fillna(df['Gender'].mode()[0] , inplace=True)\n",
    "df['Gender'].unique()\n"
   ]
  },
  {
   "cell_type": "code",
   "execution_count": 10,
   "metadata": {},
   "outputs": [
    {
     "data": {
      "text/plain": [
       "array(['Yes', 'No'], dtype=object)"
      ]
     },
     "execution_count": 10,
     "metadata": {},
     "output_type": "execute_result"
    }
   ],
   "source": [
    "df['Married'].fillna(df['Married'].mode()[0] , inplace=True)\n",
    "df['Married'].unique()\n"
   ]
  },
  {
   "cell_type": "code",
   "execution_count": 11,
   "metadata": {},
   "outputs": [
    {
     "data": {
      "text/plain": [
       "array(['0', '1', '2', '3'], dtype=object)"
      ]
     },
     "execution_count": 11,
     "metadata": {},
     "output_type": "execute_result"
    }
   ],
   "source": [
    "df['Dependents'].fillna(df['Dependents'].mode()[0] , inplace=True)\n",
    "df['Dependents'].replace({'3+':'3'}, inplace=True)\n",
    "df['Dependents'].unique()\n"
   ]
  },
  {
   "cell_type": "code",
   "execution_count": 12,
   "metadata": {},
   "outputs": [
    {
     "data": {
      "text/plain": [
       "array(['No', 'Yes'], dtype=object)"
      ]
     },
     "execution_count": 12,
     "metadata": {},
     "output_type": "execute_result"
    }
   ],
   "source": [
    "df['Self_Employed'].fillna(df['Self_Employed'].mode()[0] , inplace=True)\n",
    "df['Self_Employed'].unique()\n"
   ]
  },
  {
   "cell_type": "code",
   "execution_count": 13,
   "metadata": {},
   "outputs": [
    {
     "name": "stdout",
     "output_type": "stream",
     "text": [
      "Loan_ID -- ['LP001015' 'LP001022' 'LP001031' 'LP001035' 'LP001051' 'LP001054'\n",
      " 'LP001055' 'LP001056' 'LP001059' 'LP001067' 'LP001078' 'LP001082'\n",
      " 'LP001083' 'LP001094' 'LP001096' 'LP001099' 'LP001105' 'LP001107'\n",
      " 'LP001108' 'LP001115' 'LP001121' 'LP001124' 'LP001128' 'LP001135'\n",
      " 'LP001149' 'LP001153' 'LP001163' 'LP001169' 'LP001174' 'LP001176'\n",
      " 'LP001177' 'LP001183' 'LP001185' 'LP001187' 'LP001190' 'LP001203'\n",
      " 'LP001208' 'LP001210' 'LP001211' 'LP001219' 'LP001220' 'LP001221'\n",
      " 'LP001226' 'LP001230' 'LP001231' 'LP001232' 'LP001237' 'LP001242'\n",
      " 'LP001268' 'LP001270' 'LP001284' 'LP001287' 'LP001291' 'LP001298'\n",
      " 'LP001312' 'LP001313' 'LP001317' 'LP001321' 'LP001323' 'LP001324'\n",
      " 'LP001332' 'LP001335' 'LP001338' 'LP001347' 'LP001348' 'LP001351'\n",
      " 'LP001352' 'LP001358' 'LP001359' 'LP001361' 'LP001366' 'LP001368'\n",
      " 'LP001375' 'LP001380' 'LP001386' 'LP001400' 'LP001407' 'LP001413'\n",
      " 'LP001415' 'LP001419' 'LP001420' 'LP001428' 'LP001445' 'LP001446'\n",
      " 'LP001450' 'LP001452' 'LP001455' 'LP001466' 'LP001471' 'LP001472'\n",
      " 'LP001475' 'LP001483' 'LP001486' 'LP001490' 'LP001496' 'LP001499'\n",
      " 'LP001500' 'LP001501' 'LP001517' 'LP001527' 'LP001534' 'LP001542'\n",
      " 'LP001547' 'LP001548' 'LP001558' 'LP001561' 'LP001563' 'LP001567'\n",
      " 'LP001568' 'LP001573' 'LP001584' 'LP001587' 'LP001589' 'LP001591'\n",
      " 'LP001599' 'LP001601' 'LP001607' 'LP001611' 'LP001613' 'LP001622'\n",
      " 'LP001627' 'LP001650' 'LP001651' 'LP001652' 'LP001655' 'LP001660'\n",
      " 'LP001662' 'LP001663' 'LP001667' 'LP001695' 'LP001703' 'LP001718'\n",
      " 'LP001728' 'LP001735' 'LP001737' 'LP001739' 'LP001742' 'LP001757'\n",
      " 'LP001769' 'LP001771' 'LP001785' 'LP001787' 'LP001789' 'LP001791'\n",
      " 'LP001794' 'LP001797' 'LP001815' 'LP001817' 'LP001818' 'LP001822'\n",
      " 'LP001827' 'LP001831' 'LP001842' 'LP001853' 'LP001855' 'LP001857'\n",
      " 'LP001862' 'LP001867' 'LP001878' 'LP001881' 'LP001886' 'LP001906'\n",
      " 'LP001909' 'LP001911' 'LP001921' 'LP001923' 'LP001933' 'LP001943'\n",
      " 'LP001950' 'LP001959' 'LP001961' 'LP001973' 'LP001975' 'LP001979'\n",
      " 'LP001995' 'LP001999' 'LP002007' 'LP002009' 'LP002016' 'LP002017'\n",
      " 'LP002018' 'LP002027' 'LP002028' 'LP002042' 'LP002045' 'LP002046'\n",
      " 'LP002047' 'LP002056' 'LP002057' 'LP002059' 'LP002062' 'LP002064'\n",
      " 'LP002069' 'LP002070' 'LP002077' 'LP002083' 'LP002090' 'LP002096'\n",
      " 'LP002099' 'LP002102' 'LP002105' 'LP002107' 'LP002111' 'LP002117'\n",
      " 'LP002118' 'LP002123' 'LP002125' 'LP002148' 'LP002152' 'LP002165'\n",
      " 'LP002167' 'LP002168' 'LP002172' 'LP002176' 'LP002183' 'LP002184'\n",
      " 'LP002186' 'LP002192' 'LP002195' 'LP002208' 'LP002212' 'LP002240'\n",
      " 'LP002245' 'LP002253' 'LP002256' 'LP002257' 'LP002264' 'LP002270'\n",
      " 'LP002279' 'LP002286' 'LP002294' 'LP002298' 'LP002306' 'LP002310'\n",
      " 'LP002311' 'LP002316' 'LP002321' 'LP002325' 'LP002326' 'LP002329'\n",
      " 'LP002333' 'LP002339' 'LP002344' 'LP002346' 'LP002354' 'LP002355'\n",
      " 'LP002358' 'LP002360' 'LP002375' 'LP002376' 'LP002383' 'LP002385'\n",
      " 'LP002389' 'LP002394' 'LP002397' 'LP002399' 'LP002400' 'LP002402'\n",
      " 'LP002412' 'LP002415' 'LP002417' 'LP002420' 'LP002425' 'LP002433'\n",
      " 'LP002440' 'LP002441' 'LP002442' 'LP002445' 'LP002450' 'LP002471'\n",
      " 'LP002476' 'LP002482' 'LP002485' 'LP002495' 'LP002496' 'LP002523'\n",
      " 'LP002542' 'LP002550' 'LP002551' 'LP002553' 'LP002554' 'LP002561'\n",
      " 'LP002566' 'LP002568' 'LP002570' 'LP002572' 'LP002581' 'LP002584'\n",
      " 'LP002592' 'LP002593' 'LP002599' 'LP002604' 'LP002605' 'LP002609'\n",
      " 'LP002610' 'LP002612' 'LP002614' 'LP002630' 'LP002635' 'LP002639'\n",
      " 'LP002644' 'LP002651' 'LP002654' 'LP002657' 'LP002711' 'LP002712'\n",
      " 'LP002721' 'LP002735' 'LP002744' 'LP002745' 'LP002746' 'LP002747'\n",
      " 'LP002754' 'LP002759' 'LP002760' 'LP002766' 'LP002769' 'LP002774'\n",
      " 'LP002775' 'LP002781' 'LP002782' 'LP002786' 'LP002790' 'LP002791'\n",
      " 'LP002793' 'LP002802' 'LP002803' 'LP002805' 'LP002806' 'LP002816'\n",
      " 'LP002823' 'LP002825' 'LP002826' 'LP002843' 'LP002849' 'LP002850'\n",
      " 'LP002853' 'LP002856' 'LP002857' 'LP002858' 'LP002860' 'LP002867'\n",
      " 'LP002869' 'LP002870' 'LP002876' 'LP002878' 'LP002879' 'LP002885'\n",
      " 'LP002890' 'LP002891' 'LP002899' 'LP002901' 'LP002907' 'LP002920'\n",
      " 'LP002921' 'LP002932' 'LP002935' 'LP002952' 'LP002954' 'LP002962'\n",
      " 'LP002965' 'LP002969' 'LP002971' 'LP002975' 'LP002980' 'LP002986'\n",
      " 'LP002989']\n",
      "Gender -- ['Male' 'Female']\n",
      "Married -- ['Yes' 'No']\n",
      "Dependents -- ['0' '1' '2' '3']\n",
      "Education -- ['Graduate' 'Not Graduate']\n",
      "Self_Employed -- ['No' 'Yes']\n",
      "Property_Area -- ['Urban' 'Semiurban' 'Rural']\n"
     ]
    }
   ],
   "source": [
    "for i in df.select_dtypes(include='object').columns.to_list():\n",
    "    print(f\"{i} -- { df[i].unique() }\")"
   ]
  },
  {
   "cell_type": "code",
   "execution_count": 14,
   "metadata": {},
   "outputs": [
    {
     "data": {
      "text/plain": [
       "Loan_ID               0\n",
       "Gender                0\n",
       "Married               0\n",
       "Dependents            0\n",
       "Education             0\n",
       "Self_Employed         0\n",
       "ApplicantIncome       0\n",
       "CoapplicantIncome     0\n",
       "LoanAmount            5\n",
       "Loan_Amount_Term      6\n",
       "Credit_History       29\n",
       "Property_Area         0\n",
       "dtype: int64"
      ]
     },
     "execution_count": 14,
     "metadata": {},
     "output_type": "execute_result"
    }
   ],
   "source": [
    "df.isnull().sum()"
   ]
  },
  {
   "cell_type": "code",
   "execution_count": 15,
   "metadata": {},
   "outputs": [],
   "source": [
    "# df.dropna(inplace=True)"
   ]
  },
  {
   "cell_type": "code",
   "execution_count": 17,
   "metadata": {},
   "outputs": [],
   "source": [
    "df['LoanAmount'].fillna(df['LoanAmount'].median(), inplace=True)"
   ]
  },
  {
   "cell_type": "code",
   "execution_count": 18,
   "metadata": {},
   "outputs": [],
   "source": [
    "df['Loan_Amount_Term'].fillna(df['Loan_Amount_Term'].median(), inplace=True)"
   ]
  },
  {
   "cell_type": "code",
   "execution_count": 19,
   "metadata": {},
   "outputs": [],
   "source": [
    "df['Credit_History'].fillna(df['Credit_History'].median(), inplace=True)"
   ]
  },
  {
   "cell_type": "code",
   "execution_count": 16,
   "metadata": {},
   "outputs": [
    {
     "data": {
      "text/plain": [
       "(328, 12)"
      ]
     },
     "execution_count": 16,
     "metadata": {},
     "output_type": "execute_result"
    }
   ],
   "source": [
    "df.shape"
   ]
  },
  {
   "cell_type": "code",
   "execution_count": 20,
   "metadata": {},
   "outputs": [
    {
     "data": {
      "text/plain": [
       "Loan_ID               object\n",
       "Gender                object\n",
       "Married               object\n",
       "Dependents            object\n",
       "Education             object\n",
       "Self_Employed         object\n",
       "ApplicantIncome        int64\n",
       "CoapplicantIncome      int64\n",
       "LoanAmount           float64\n",
       "Loan_Amount_Term     float64\n",
       "Credit_History       float64\n",
       "Property_Area         object\n",
       "dtype: object"
      ]
     },
     "execution_count": 20,
     "metadata": {},
     "output_type": "execute_result"
    }
   ],
   "source": [
    "df.dtypes"
   ]
  },
  {
   "cell_type": "code",
   "execution_count": 21,
   "metadata": {},
   "outputs": [
    {
     "data": {
      "text/plain": [
       "Loan_ID              0\n",
       "Gender               0\n",
       "Married              0\n",
       "Dependents           0\n",
       "Education            0\n",
       "Self_Employed        0\n",
       "ApplicantIncome      0\n",
       "CoapplicantIncome    0\n",
       "LoanAmount           0\n",
       "Loan_Amount_Term     0\n",
       "Credit_History       0\n",
       "Property_Area        0\n",
       "dtype: int64"
      ]
     },
     "execution_count": 21,
     "metadata": {},
     "output_type": "execute_result"
    }
   ],
   "source": [
    "df.isnull().sum()"
   ]
  },
  {
   "cell_type": "code",
   "execution_count": 22,
   "metadata": {},
   "outputs": [],
   "source": [
    "# from sklearn import preprocessing\n",
    "\n",
    "# # Loop over each column in the DataFrame where dtype is 'object'\n",
    "# for col in df.select_dtypes(include=['object']).columns:\n",
    "\n",
    "#     # Initialize a LabelEncoder object\n",
    "#     label_encoder = preprocessing.LabelEncoder()\n",
    "\n",
    "#     # Fit the encoder to the unique values in the column\n",
    "#     label_encoder.fit(df[col].unique())\n",
    "\n",
    "#     # Transform the column using the encoder\n",
    "#     df[col] = label_encoder.transform(df[col])\n",
    "\n",
    "#     # Print the column name and the unique encoded values\n",
    "#     print(f\"{col}: {df[col].unique()}\")"
   ]
  },
  {
   "cell_type": "code",
   "execution_count": 23,
   "metadata": {},
   "outputs": [],
   "source": [
    "le = preprocessing.LabelEncoder()\n",
    "for col in df.select_dtypes(include=['object']).columns:\n",
    "    df[col] = le.fit_transform(df[col])"
   ]
  },
  {
   "cell_type": "code",
   "execution_count": 24,
   "metadata": {},
   "outputs": [
    {
     "data": {
      "text/plain": [
       "(328, 12)"
      ]
     },
     "execution_count": 24,
     "metadata": {},
     "output_type": "execute_result"
    }
   ],
   "source": [
    "df.shape"
   ]
  },
  {
   "cell_type": "code",
   "execution_count": 25,
   "metadata": {},
   "outputs": [],
   "source": [
    "import pickle\n",
    "output_predict = pickle.load(open(\"loan_predict_ra.pkl\",\"rb\"))"
   ]
  },
  {
   "cell_type": "code",
   "execution_count": 26,
   "metadata": {},
   "outputs": [
    {
     "ename": "ValueError",
     "evalue": "The feature names should match those that were passed during fit.\nFeature names unseen at fit time:\n- Loan_ID\n",
     "output_type": "error",
     "traceback": [
      "\u001b[1;31m---------------------------------------------------------------------------\u001b[0m",
      "\u001b[1;31mValueError\u001b[0m                                Traceback (most recent call last)",
      "Cell \u001b[1;32mIn[26], line 1\u001b[0m\n\u001b[1;32m----> 1\u001b[0m pred1 \u001b[38;5;241m=\u001b[39m \u001b[43moutput_predict\u001b[49m\u001b[38;5;241;43m.\u001b[39;49m\u001b[43mpredict\u001b[49m\u001b[43m(\u001b[49m\u001b[43mdf\u001b[49m\u001b[43m)\u001b[49m\n",
      "File \u001b[1;32m~\\anaconda3\\Lib\\site-packages\\sklearn\\ensemble\\_forest.py:823\u001b[0m, in \u001b[0;36mForestClassifier.predict\u001b[1;34m(self, X)\u001b[0m\n\u001b[0;32m    802\u001b[0m \u001b[38;5;28;01mdef\u001b[39;00m \u001b[38;5;21mpredict\u001b[39m(\u001b[38;5;28mself\u001b[39m, X):\n\u001b[0;32m    803\u001b[0m \u001b[38;5;250m    \u001b[39m\u001b[38;5;124;03m\"\"\"\u001b[39;00m\n\u001b[0;32m    804\u001b[0m \u001b[38;5;124;03m    Predict class for X.\u001b[39;00m\n\u001b[0;32m    805\u001b[0m \n\u001b[1;32m   (...)\u001b[0m\n\u001b[0;32m    821\u001b[0m \u001b[38;5;124;03m        The predicted classes.\u001b[39;00m\n\u001b[0;32m    822\u001b[0m \u001b[38;5;124;03m    \"\"\"\u001b[39;00m\n\u001b[1;32m--> 823\u001b[0m     proba \u001b[38;5;241m=\u001b[39m \u001b[38;5;28;43mself\u001b[39;49m\u001b[38;5;241;43m.\u001b[39;49m\u001b[43mpredict_proba\u001b[49m\u001b[43m(\u001b[49m\u001b[43mX\u001b[49m\u001b[43m)\u001b[49m\n\u001b[0;32m    825\u001b[0m     \u001b[38;5;28;01mif\u001b[39;00m \u001b[38;5;28mself\u001b[39m\u001b[38;5;241m.\u001b[39mn_outputs_ \u001b[38;5;241m==\u001b[39m \u001b[38;5;241m1\u001b[39m:\n\u001b[0;32m    826\u001b[0m         \u001b[38;5;28;01mreturn\u001b[39;00m \u001b[38;5;28mself\u001b[39m\u001b[38;5;241m.\u001b[39mclasses_\u001b[38;5;241m.\u001b[39mtake(np\u001b[38;5;241m.\u001b[39margmax(proba, axis\u001b[38;5;241m=\u001b[39m\u001b[38;5;241m1\u001b[39m), axis\u001b[38;5;241m=\u001b[39m\u001b[38;5;241m0\u001b[39m)\n",
      "File \u001b[1;32m~\\anaconda3\\Lib\\site-packages\\sklearn\\ensemble\\_forest.py:865\u001b[0m, in \u001b[0;36mForestClassifier.predict_proba\u001b[1;34m(self, X)\u001b[0m\n\u001b[0;32m    863\u001b[0m check_is_fitted(\u001b[38;5;28mself\u001b[39m)\n\u001b[0;32m    864\u001b[0m \u001b[38;5;66;03m# Check data\u001b[39;00m\n\u001b[1;32m--> 865\u001b[0m X \u001b[38;5;241m=\u001b[39m \u001b[38;5;28;43mself\u001b[39;49m\u001b[38;5;241;43m.\u001b[39;49m\u001b[43m_validate_X_predict\u001b[49m\u001b[43m(\u001b[49m\u001b[43mX\u001b[49m\u001b[43m)\u001b[49m\n\u001b[0;32m    867\u001b[0m \u001b[38;5;66;03m# Assign chunk of trees to jobs\u001b[39;00m\n\u001b[0;32m    868\u001b[0m n_jobs, _, _ \u001b[38;5;241m=\u001b[39m _partition_estimators(\u001b[38;5;28mself\u001b[39m\u001b[38;5;241m.\u001b[39mn_estimators, \u001b[38;5;28mself\u001b[39m\u001b[38;5;241m.\u001b[39mn_jobs)\n",
      "File \u001b[1;32m~\\anaconda3\\Lib\\site-packages\\sklearn\\ensemble\\_forest.py:599\u001b[0m, in \u001b[0;36mBaseForest._validate_X_predict\u001b[1;34m(self, X)\u001b[0m\n\u001b[0;32m    596\u001b[0m \u001b[38;5;250m\u001b[39m\u001b[38;5;124;03m\"\"\"\u001b[39;00m\n\u001b[0;32m    597\u001b[0m \u001b[38;5;124;03mValidate X whenever one tries to predict, apply, predict_proba.\"\"\"\u001b[39;00m\n\u001b[0;32m    598\u001b[0m check_is_fitted(\u001b[38;5;28mself\u001b[39m)\n\u001b[1;32m--> 599\u001b[0m X \u001b[38;5;241m=\u001b[39m \u001b[38;5;28;43mself\u001b[39;49m\u001b[38;5;241;43m.\u001b[39;49m\u001b[43m_validate_data\u001b[49m\u001b[43m(\u001b[49m\u001b[43mX\u001b[49m\u001b[43m,\u001b[49m\u001b[43m \u001b[49m\u001b[43mdtype\u001b[49m\u001b[38;5;241;43m=\u001b[39;49m\u001b[43mDTYPE\u001b[49m\u001b[43m,\u001b[49m\u001b[43m \u001b[49m\u001b[43maccept_sparse\u001b[49m\u001b[38;5;241;43m=\u001b[39;49m\u001b[38;5;124;43m\"\u001b[39;49m\u001b[38;5;124;43mcsr\u001b[39;49m\u001b[38;5;124;43m\"\u001b[39;49m\u001b[43m,\u001b[49m\u001b[43m \u001b[49m\u001b[43mreset\u001b[49m\u001b[38;5;241;43m=\u001b[39;49m\u001b[38;5;28;43;01mFalse\u001b[39;49;00m\u001b[43m)\u001b[49m\n\u001b[0;32m    600\u001b[0m \u001b[38;5;28;01mif\u001b[39;00m issparse(X) \u001b[38;5;129;01mand\u001b[39;00m (X\u001b[38;5;241m.\u001b[39mindices\u001b[38;5;241m.\u001b[39mdtype \u001b[38;5;241m!=\u001b[39m np\u001b[38;5;241m.\u001b[39mintc \u001b[38;5;129;01mor\u001b[39;00m X\u001b[38;5;241m.\u001b[39mindptr\u001b[38;5;241m.\u001b[39mdtype \u001b[38;5;241m!=\u001b[39m np\u001b[38;5;241m.\u001b[39mintc):\n\u001b[0;32m    601\u001b[0m     \u001b[38;5;28;01mraise\u001b[39;00m \u001b[38;5;167;01mValueError\u001b[39;00m(\u001b[38;5;124m\"\u001b[39m\u001b[38;5;124mNo support for np.int64 index based sparse matrices\u001b[39m\u001b[38;5;124m\"\u001b[39m)\n",
      "File \u001b[1;32m~\\anaconda3\\Lib\\site-packages\\sklearn\\base.py:579\u001b[0m, in \u001b[0;36mBaseEstimator._validate_data\u001b[1;34m(self, X, y, reset, validate_separately, cast_to_ndarray, **check_params)\u001b[0m\n\u001b[0;32m    508\u001b[0m \u001b[38;5;28;01mdef\u001b[39;00m \u001b[38;5;21m_validate_data\u001b[39m(\n\u001b[0;32m    509\u001b[0m     \u001b[38;5;28mself\u001b[39m,\n\u001b[0;32m    510\u001b[0m     X\u001b[38;5;241m=\u001b[39m\u001b[38;5;124m\"\u001b[39m\u001b[38;5;124mno_validation\u001b[39m\u001b[38;5;124m\"\u001b[39m,\n\u001b[1;32m   (...)\u001b[0m\n\u001b[0;32m    515\u001b[0m     \u001b[38;5;241m*\u001b[39m\u001b[38;5;241m*\u001b[39mcheck_params,\n\u001b[0;32m    516\u001b[0m ):\n\u001b[0;32m    517\u001b[0m \u001b[38;5;250m    \u001b[39m\u001b[38;5;124;03m\"\"\"Validate input data and set or check the `n_features_in_` attribute.\u001b[39;00m\n\u001b[0;32m    518\u001b[0m \n\u001b[0;32m    519\u001b[0m \u001b[38;5;124;03m    Parameters\u001b[39;00m\n\u001b[1;32m   (...)\u001b[0m\n\u001b[0;32m    577\u001b[0m \u001b[38;5;124;03m        validated.\u001b[39;00m\n\u001b[0;32m    578\u001b[0m \u001b[38;5;124;03m    \"\"\"\u001b[39;00m\n\u001b[1;32m--> 579\u001b[0m     \u001b[38;5;28;43mself\u001b[39;49m\u001b[38;5;241;43m.\u001b[39;49m\u001b[43m_check_feature_names\u001b[49m\u001b[43m(\u001b[49m\u001b[43mX\u001b[49m\u001b[43m,\u001b[49m\u001b[43m \u001b[49m\u001b[43mreset\u001b[49m\u001b[38;5;241;43m=\u001b[39;49m\u001b[43mreset\u001b[49m\u001b[43m)\u001b[49m\n\u001b[0;32m    581\u001b[0m     \u001b[38;5;28;01mif\u001b[39;00m y \u001b[38;5;129;01mis\u001b[39;00m \u001b[38;5;28;01mNone\u001b[39;00m \u001b[38;5;129;01mand\u001b[39;00m \u001b[38;5;28mself\u001b[39m\u001b[38;5;241m.\u001b[39m_get_tags()[\u001b[38;5;124m\"\u001b[39m\u001b[38;5;124mrequires_y\u001b[39m\u001b[38;5;124m\"\u001b[39m]:\n\u001b[0;32m    582\u001b[0m         \u001b[38;5;28;01mraise\u001b[39;00m \u001b[38;5;167;01mValueError\u001b[39;00m(\n\u001b[0;32m    583\u001b[0m             \u001b[38;5;124mf\u001b[39m\u001b[38;5;124m\"\u001b[39m\u001b[38;5;124mThis \u001b[39m\u001b[38;5;132;01m{\u001b[39;00m\u001b[38;5;28mself\u001b[39m\u001b[38;5;241m.\u001b[39m\u001b[38;5;18m__class__\u001b[39m\u001b[38;5;241m.\u001b[39m\u001b[38;5;18m__name__\u001b[39m\u001b[38;5;132;01m}\u001b[39;00m\u001b[38;5;124m estimator \u001b[39m\u001b[38;5;124m\"\u001b[39m\n\u001b[0;32m    584\u001b[0m             \u001b[38;5;124m\"\u001b[39m\u001b[38;5;124mrequires y to be passed, but the target y is None.\u001b[39m\u001b[38;5;124m\"\u001b[39m\n\u001b[0;32m    585\u001b[0m         )\n",
      "File \u001b[1;32m~\\anaconda3\\Lib\\site-packages\\sklearn\\base.py:506\u001b[0m, in \u001b[0;36mBaseEstimator._check_feature_names\u001b[1;34m(self, X, reset)\u001b[0m\n\u001b[0;32m    501\u001b[0m \u001b[38;5;28;01mif\u001b[39;00m \u001b[38;5;129;01mnot\u001b[39;00m missing_names \u001b[38;5;129;01mand\u001b[39;00m \u001b[38;5;129;01mnot\u001b[39;00m unexpected_names:\n\u001b[0;32m    502\u001b[0m     message \u001b[38;5;241m+\u001b[39m\u001b[38;5;241m=\u001b[39m (\n\u001b[0;32m    503\u001b[0m         \u001b[38;5;124m\"\u001b[39m\u001b[38;5;124mFeature names must be in the same order as they were in fit.\u001b[39m\u001b[38;5;130;01m\\n\u001b[39;00m\u001b[38;5;124m\"\u001b[39m\n\u001b[0;32m    504\u001b[0m     )\n\u001b[1;32m--> 506\u001b[0m \u001b[38;5;28;01mraise\u001b[39;00m \u001b[38;5;167;01mValueError\u001b[39;00m(message)\n",
      "\u001b[1;31mValueError\u001b[0m: The feature names should match those that were passed during fit.\nFeature names unseen at fit time:\n- Loan_ID\n"
     ]
    }
   ],
   "source": [
    "pred1 = output_predict.predict(df)\n"
   ]
  },
  {
   "cell_type": "code",
   "execution_count": null,
   "metadata": {},
   "outputs": [],
   "source": [
    "df = pd.read_csv(r\"C:\\Users\\Rahul\\Desktop\\Data Science\\omkar sir\\Machine Learning\\Analytic vidya\\loan\\test_lAUu6dG.csv\")"
   ]
  },
  {
   "cell_type": "code",
   "execution_count": null,
   "metadata": {},
   "outputs": [],
   "source": [
    "df['Loan_ID']"
   ]
  },
  {
   "cell_type": "code",
   "execution_count": null,
   "metadata": {},
   "outputs": [],
   "source": [
    "newdf = pd.DataFrame()"
   ]
  },
  {
   "cell_type": "code",
   "execution_count": null,
   "metadata": {},
   "outputs": [],
   "source": [
    "# newdf['Loan_ID'] = df['Loan_ID']\n",
    "# newdf['Loan_Status'] = pred\n"
   ]
  },
  {
   "cell_type": "code",
   "execution_count": null,
   "metadata": {},
   "outputs": [],
   "source": []
  },
  {
   "cell_type": "code",
   "execution_count": null,
   "metadata": {},
   "outputs": [],
   "source": []
  }
 ],
 "metadata": {
  "kernelspec": {
   "display_name": "Python 3 (ipykernel)",
   "language": "python",
   "name": "python3"
  },
  "language_info": {
   "codemirror_mode": {
    "name": "ipython",
    "version": 3
   },
   "file_extension": ".py",
   "mimetype": "text/x-python",
   "name": "python",
   "nbconvert_exporter": "python",
   "pygments_lexer": "ipython3",
   "version": "3.11.5"
  }
 },
 "nbformat": 4,
 "nbformat_minor": 2
}
