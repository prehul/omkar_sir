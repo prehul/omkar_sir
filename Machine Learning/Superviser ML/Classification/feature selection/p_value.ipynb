{
 "cells": [
  {
   "cell_type": "code",
   "execution_count": 23,
   "metadata": {},
   "outputs": [],
   "source": [
    "import pandas as pd"
   ]
  },
  {
   "cell_type": "code",
   "execution_count": 24,
   "metadata": {},
   "outputs": [],
   "source": [
    "df = pd.read_csv(\"winequality_red.csv\")"
   ]
  },
  {
   "cell_type": "code",
   "execution_count": 25,
   "metadata": {},
   "outputs": [],
   "source": [
    "X = df.drop(\"quality\", axis=1)\n",
    "y = df[\"quality\"]"
   ]
  },
  {
   "cell_type": "code",
   "execution_count": 26,
   "metadata": {},
   "outputs": [],
   "source": [
    "from sklearn.model_selection import train_test_split\n",
    "X_train,x_test,Y_train,y_test = train_test_split(X,y, test_size=0.2, random_state=1234)"
   ]
  },
  {
   "cell_type": "code",
   "execution_count": 28,
   "metadata": {},
   "outputs": [
    {
     "name": "stdout",
     "output_type": "stream",
     "text": [
      "(1279, 11)\n",
      "(320, 11)\n",
      "(1279,)\n",
      "(320,)\n"
     ]
    }
   ],
   "source": [
    "print(X_train.shape)\n",
    "print(x_test.shape)\n",
    "print(Y_train.shape)\n",
    "print(y_test.shape)"
   ]
  },
  {
   "cell_type": "code",
   "execution_count": 32,
   "metadata": {},
   "outputs": [],
   "source": [
    "from statsmodels.api import OLS\n",
    "\n",
    "results = OLS(Y_train,X_train).fit()"
   ]
  },
  {
   "cell_type": "code",
   "execution_count": 33,
   "metadata": {},
   "outputs": [
    {
     "data": {
      "text/html": [
       "<table class=\"simpletable\">\n",
       "<caption>OLS Regression Results</caption>\n",
       "<tr>\n",
       "  <th>Dep. Variable:</th>         <td>quality</td>     <th>  R-squared (uncentered):</th>      <td>   0.987</td>\n",
       "</tr>\n",
       "<tr>\n",
       "  <th>Model:</th>                   <td>OLS</td>       <th>  Adj. R-squared (uncentered):</th> <td>   0.987</td>\n",
       "</tr>\n",
       "<tr>\n",
       "  <th>Method:</th>             <td>Least Squares</td>  <th>  F-statistic:       </th>          <td>   8645.</td>\n",
       "</tr>\n",
       "<tr>\n",
       "  <th>Date:</th>             <td>Fri, 09 Feb 2024</td> <th>  Prob (F-statistic):</th>           <td>  0.00</td> \n",
       "</tr>\n",
       "<tr>\n",
       "  <th>Time:</th>                 <td>03:26:43</td>     <th>  Log-Likelihood:    </th>          <td> -1270.3</td>\n",
       "</tr>\n",
       "<tr>\n",
       "  <th>No. Observations:</th>      <td>  1279</td>      <th>  AIC:               </th>          <td>   2563.</td>\n",
       "</tr>\n",
       "<tr>\n",
       "  <th>Df Residuals:</th>          <td>  1268</td>      <th>  BIC:               </th>          <td>   2619.</td>\n",
       "</tr>\n",
       "<tr>\n",
       "  <th>Df Model:</th>              <td>    11</td>      <th>                     </th>              <td> </td>   \n",
       "</tr>\n",
       "<tr>\n",
       "  <th>Covariance Type:</th>      <td>nonrobust</td>    <th>                     </th>              <td> </td>   \n",
       "</tr>\n",
       "</table>\n",
       "<table class=\"simpletable\">\n",
       "<tr>\n",
       "            <td></td>              <th>coef</th>     <th>std err</th>      <th>t</th>      <th>P>|t|</th>  <th>[0.025</th>    <th>0.975]</th>  \n",
       "</tr>\n",
       "<tr>\n",
       "  <th>fixed acidity</th>        <td>   -0.0084</td> <td>    0.019</td> <td>   -0.450</td> <td> 0.653</td> <td>   -0.045</td> <td>    0.028</td>\n",
       "</tr>\n",
       "<tr>\n",
       "  <th>volatile acidity</th>     <td>   -1.1035</td> <td>    0.134</td> <td>   -8.256</td> <td> 0.000</td> <td>   -1.366</td> <td>   -0.841</td>\n",
       "</tr>\n",
       "<tr>\n",
       "  <th>citric acid</th>          <td>   -0.1079</td> <td>    0.165</td> <td>   -0.654</td> <td> 0.513</td> <td>   -0.432</td> <td>    0.216</td>\n",
       "</tr>\n",
       "<tr>\n",
       "  <th>residual sugar</th>       <td>    0.0063</td> <td>    0.013</td> <td>    0.469</td> <td> 0.639</td> <td>   -0.020</td> <td>    0.033</td>\n",
       "</tr>\n",
       "<tr>\n",
       "  <th>chlorides</th>            <td>   -1.7285</td> <td>    0.460</td> <td>   -3.760</td> <td> 0.000</td> <td>   -2.630</td> <td>   -0.827</td>\n",
       "</tr>\n",
       "<tr>\n",
       "  <th>free sulfur dioxide</th>  <td>    0.0050</td> <td>    0.002</td> <td>    2.063</td> <td> 0.039</td> <td>    0.000</td> <td>    0.010</td>\n",
       "</tr>\n",
       "<tr>\n",
       "  <th>total sulfur dioxide</th> <td>   -0.0037</td> <td>    0.001</td> <td>   -4.429</td> <td> 0.000</td> <td>   -0.005</td> <td>   -0.002</td>\n",
       "</tr>\n",
       "<tr>\n",
       "  <th>density</th>              <td>    4.7359</td> <td>    0.706</td> <td>    6.710</td> <td> 0.000</td> <td>    3.351</td> <td>    6.121</td>\n",
       "</tr>\n",
       "<tr>\n",
       "  <th>pH</th>                   <td>   -0.5526</td> <td>    0.180</td> <td>   -3.068</td> <td> 0.002</td> <td>   -0.906</td> <td>   -0.199</td>\n",
       "</tr>\n",
       "<tr>\n",
       "  <th>sulphates</th>            <td>    0.8218</td> <td>    0.123</td> <td>    6.696</td> <td> 0.000</td> <td>    0.581</td> <td>    1.063</td>\n",
       "</tr>\n",
       "<tr>\n",
       "  <th>alcohol</th>              <td>    0.2988</td> <td>    0.020</td> <td>   15.289</td> <td> 0.000</td> <td>    0.260</td> <td>    0.337</td>\n",
       "</tr>\n",
       "</table>\n",
       "<table class=\"simpletable\">\n",
       "<tr>\n",
       "  <th>Omnibus:</th>       <td>15.143</td> <th>  Durbin-Watson:     </th> <td>   2.094</td>\n",
       "</tr>\n",
       "<tr>\n",
       "  <th>Prob(Omnibus):</th> <td> 0.001</td> <th>  Jarque-Bera (JB):  </th> <td>  19.632</td>\n",
       "</tr>\n",
       "<tr>\n",
       "  <th>Skew:</th>          <td>-0.152</td> <th>  Prob(JB):          </th> <td>5.46e-05</td>\n",
       "</tr>\n",
       "<tr>\n",
       "  <th>Kurtosis:</th>      <td> 3.526</td> <th>  Cond. No.          </th> <td>2.43e+03</td>\n",
       "</tr>\n",
       "</table><br/><br/>Notes:<br/>[1] R² is computed without centering (uncentered) since the model does not contain a constant.<br/>[2] Standard Errors assume that the covariance matrix of the errors is correctly specified.<br/>[3] The condition number is large, 2.43e+03. This might indicate that there are<br/>strong multicollinearity or other numerical problems."
      ],
      "text/latex": [
       "\\begin{center}\n",
       "\\begin{tabular}{lclc}\n",
       "\\toprule\n",
       "\\textbf{Dep. Variable:}       &     quality      & \\textbf{  R-squared (uncentered):}      &     0.987   \\\\\n",
       "\\textbf{Model:}               &       OLS        & \\textbf{  Adj. R-squared (uncentered):} &     0.987   \\\\\n",
       "\\textbf{Method:}              &  Least Squares   & \\textbf{  F-statistic:       }          &     8645.   \\\\\n",
       "\\textbf{Date:}                & Fri, 09 Feb 2024 & \\textbf{  Prob (F-statistic):}          &     0.00    \\\\\n",
       "\\textbf{Time:}                &     03:26:43     & \\textbf{  Log-Likelihood:    }          &   -1270.3   \\\\\n",
       "\\textbf{No. Observations:}    &        1279      & \\textbf{  AIC:               }          &     2563.   \\\\\n",
       "\\textbf{Df Residuals:}        &        1268      & \\textbf{  BIC:               }          &     2619.   \\\\\n",
       "\\textbf{Df Model:}            &          11      & \\textbf{                     }          &             \\\\\n",
       "\\textbf{Covariance Type:}     &    nonrobust     & \\textbf{                     }          &             \\\\\n",
       "\\bottomrule\n",
       "\\end{tabular}\n",
       "\\begin{tabular}{lcccccc}\n",
       "                              & \\textbf{coef} & \\textbf{std err} & \\textbf{t} & \\textbf{P$> |$t$|$} & \\textbf{[0.025} & \\textbf{0.975]}  \\\\\n",
       "\\midrule\n",
       "\\textbf{fixed acidity}        &      -0.0084  &        0.019     &    -0.450  &         0.653        &       -0.045    &        0.028     \\\\\n",
       "\\textbf{volatile acidity}     &      -1.1035  &        0.134     &    -8.256  &         0.000        &       -1.366    &       -0.841     \\\\\n",
       "\\textbf{citric acid}          &      -0.1079  &        0.165     &    -0.654  &         0.513        &       -0.432    &        0.216     \\\\\n",
       "\\textbf{residual sugar}       &       0.0063  &        0.013     &     0.469  &         0.639        &       -0.020    &        0.033     \\\\\n",
       "\\textbf{chlorides}            &      -1.7285  &        0.460     &    -3.760  &         0.000        &       -2.630    &       -0.827     \\\\\n",
       "\\textbf{free sulfur dioxide}  &       0.0050  &        0.002     &     2.063  &         0.039        &        0.000    &        0.010     \\\\\n",
       "\\textbf{total sulfur dioxide} &      -0.0037  &        0.001     &    -4.429  &         0.000        &       -0.005    &       -0.002     \\\\\n",
       "\\textbf{density}              &       4.7359  &        0.706     &     6.710  &         0.000        &        3.351    &        6.121     \\\\\n",
       "\\textbf{pH}                   &      -0.5526  &        0.180     &    -3.068  &         0.002        &       -0.906    &       -0.199     \\\\\n",
       "\\textbf{sulphates}            &       0.8218  &        0.123     &     6.696  &         0.000        &        0.581    &        1.063     \\\\\n",
       "\\textbf{alcohol}              &       0.2988  &        0.020     &    15.289  &         0.000        &        0.260    &        0.337     \\\\\n",
       "\\bottomrule\n",
       "\\end{tabular}\n",
       "\\begin{tabular}{lclc}\n",
       "\\textbf{Omnibus:}       & 15.143 & \\textbf{  Durbin-Watson:     } &    2.094  \\\\\n",
       "\\textbf{Prob(Omnibus):} &  0.001 & \\textbf{  Jarque-Bera (JB):  } &   19.632  \\\\\n",
       "\\textbf{Skew:}          & -0.152 & \\textbf{  Prob(JB):          } & 5.46e-05  \\\\\n",
       "\\textbf{Kurtosis:}      &  3.526 & \\textbf{  Cond. No.          } & 2.43e+03  \\\\\n",
       "\\bottomrule\n",
       "\\end{tabular}\n",
       "%\\caption{OLS Regression Results}\n",
       "\\end{center}\n",
       "\n",
       "Notes: \\newline\n",
       " [1] R² is computed without centering (uncentered) since the model does not contain a constant. \\newline\n",
       " [2] Standard Errors assume that the covariance matrix of the errors is correctly specified. \\newline\n",
       " [3] The condition number is large, 2.43e+03. This might indicate that there are \\newline\n",
       " strong multicollinearity or other numerical problems."
      ],
      "text/plain": [
       "<class 'statsmodels.iolib.summary.Summary'>\n",
       "\"\"\"\n",
       "                                 OLS Regression Results                                \n",
       "=======================================================================================\n",
       "Dep. Variable:                quality   R-squared (uncentered):                   0.987\n",
       "Model:                            OLS   Adj. R-squared (uncentered):              0.987\n",
       "Method:                 Least Squares   F-statistic:                              8645.\n",
       "Date:                Fri, 09 Feb 2024   Prob (F-statistic):                        0.00\n",
       "Time:                        03:26:43   Log-Likelihood:                         -1270.3\n",
       "No. Observations:                1279   AIC:                                      2563.\n",
       "Df Residuals:                    1268   BIC:                                      2619.\n",
       "Df Model:                          11                                                  \n",
       "Covariance Type:            nonrobust                                                  \n",
       "========================================================================================\n",
       "                           coef    std err          t      P>|t|      [0.025      0.975]\n",
       "----------------------------------------------------------------------------------------\n",
       "fixed acidity           -0.0084      0.019     -0.450      0.653      -0.045       0.028\n",
       "volatile acidity        -1.1035      0.134     -8.256      0.000      -1.366      -0.841\n",
       "citric acid             -0.1079      0.165     -0.654      0.513      -0.432       0.216\n",
       "residual sugar           0.0063      0.013      0.469      0.639      -0.020       0.033\n",
       "chlorides               -1.7285      0.460     -3.760      0.000      -2.630      -0.827\n",
       "free sulfur dioxide      0.0050      0.002      2.063      0.039       0.000       0.010\n",
       "total sulfur dioxide    -0.0037      0.001     -4.429      0.000      -0.005      -0.002\n",
       "density                  4.7359      0.706      6.710      0.000       3.351       6.121\n",
       "pH                      -0.5526      0.180     -3.068      0.002      -0.906      -0.199\n",
       "sulphates                0.8218      0.123      6.696      0.000       0.581       1.063\n",
       "alcohol                  0.2988      0.020     15.289      0.000       0.260       0.337\n",
       "==============================================================================\n",
       "Omnibus:                       15.143   Durbin-Watson:                   2.094\n",
       "Prob(Omnibus):                  0.001   Jarque-Bera (JB):               19.632\n",
       "Skew:                          -0.152   Prob(JB):                     5.46e-05\n",
       "Kurtosis:                       3.526   Cond. No.                     2.43e+03\n",
       "==============================================================================\n",
       "\n",
       "Notes:\n",
       "[1] R² is computed without centering (uncentered) since the model does not contain a constant.\n",
       "[2] Standard Errors assume that the covariance matrix of the errors is correctly specified.\n",
       "[3] The condition number is large, 2.43e+03. This might indicate that there are\n",
       "strong multicollinearity or other numerical problems.\n",
       "\"\"\""
      ]
     },
     "execution_count": 33,
     "metadata": {},
     "output_type": "execute_result"
    }
   ],
   "source": [
    "results.summary()"
   ]
  },
  {
   "cell_type": "code",
   "execution_count": 34,
   "metadata": {},
   "outputs": [
    {
     "data": {
      "text/plain": [
       "fixed acidity          -0.008370\n",
       "volatile acidity       -1.103458\n",
       "citric acid            -0.107870\n",
       "residual sugar          0.006285\n",
       "chlorides              -1.728471\n",
       "free sulfur dioxide     0.005032\n",
       "total sulfur dioxide   -0.003695\n",
       "density                 4.735879\n",
       "pH                     -0.552635\n",
       "sulphates               0.821807\n",
       "alcohol                 0.298795\n",
       "dtype: float64"
      ]
     },
     "execution_count": 34,
     "metadata": {},
     "output_type": "execute_result"
    }
   ],
   "source": [
    "results.params"
   ]
  },
  {
   "cell_type": "code",
   "execution_count": null,
   "metadata": {},
   "outputs": [],
   "source": []
  }
 ],
 "metadata": {
  "kernelspec": {
   "display_name": "base",
   "language": "python",
   "name": "python3"
  },
  "language_info": {
   "codemirror_mode": {
    "name": "ipython",
    "version": 3
   },
   "file_extension": ".py",
   "mimetype": "text/x-python",
   "name": "python",
   "nbconvert_exporter": "python",
   "pygments_lexer": "ipython3",
   "version": "3.11.5"
  }
 },
 "nbformat": 4,
 "nbformat_minor": 2
}
