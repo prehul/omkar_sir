{
 "cells": [
  {
   "cell_type": "code",
   "execution_count": null,
   "metadata": {},
   "outputs": [],
   "source": [
    "# !pip install opencv-python"
   ]
  },
  {
   "cell_type": "markdown",
   "metadata": {},
   "source": [
    "**Haar cascade**\n",
    "\n",
    "It is an object detection method"
   ]
  },
  {
   "cell_type": "code",
   "execution_count": 1,
   "metadata": {},
   "outputs": [],
   "source": [
    "import cv2"
   ]
  },
  {
   "cell_type": "markdown",
   "metadata": {},
   "source": [
    "https://github.com/opencv/opencv/tree/master/data/haarcascades"
   ]
  },
  {
   "cell_type": "code",
   "execution_count": 2,
   "metadata": {},
   "outputs": [],
   "source": [
    "face_cascade=cv2.CascadeClassifier('haarcascade_frontalface_default.xml')"
   ]
  },
  {
   "cell_type": "markdown",
   "metadata": {},
   "source": [
    "#### Image:"
   ]
  },
  {
   "cell_type": "code",
   "execution_count": 3,
   "metadata": {},
   "outputs": [
    {
     "data": {
      "text/plain": [
       "array([[[232, 190, 153],\n",
       "        [231, 189, 152],\n",
       "        [232, 189, 150],\n",
       "        ...,\n",
       "        [231, 183, 135],\n",
       "        [230, 183, 132],\n",
       "        [228, 181, 130]],\n",
       "\n",
       "       [[232, 190, 153],\n",
       "        [232, 190, 153],\n",
       "        [233, 190, 151],\n",
       "        ...,\n",
       "        [230, 182, 134],\n",
       "        [229, 182, 131],\n",
       "        [227, 180, 129]],\n",
       "\n",
       "       [[231, 189, 152],\n",
       "        [231, 189, 152],\n",
       "        [233, 190, 151],\n",
       "        ...,\n",
       "        [229, 181, 133],\n",
       "        [229, 180, 130],\n",
       "        [227, 178, 128]],\n",
       "\n",
       "       ...,\n",
       "\n",
       "       [[206, 169, 135],\n",
       "        [205, 168, 134],\n",
       "        [204, 166, 134],\n",
       "        ...,\n",
       "        [210, 180, 155],\n",
       "        [212, 182, 155],\n",
       "        [201, 171, 142]],\n",
       "\n",
       "       [[205, 168, 134],\n",
       "        [205, 168, 134],\n",
       "        [205, 167, 135],\n",
       "        ...,\n",
       "        [212, 185, 159],\n",
       "        [210, 181, 154],\n",
       "        [208, 179, 152]],\n",
       "\n",
       "       [[201, 164, 130],\n",
       "        [205, 168, 134],\n",
       "        [209, 171, 139],\n",
       "        ...,\n",
       "        [208, 181, 155],\n",
       "        [211, 181, 156],\n",
       "        [208, 179, 152]]], dtype=uint8)"
      ]
     },
     "execution_count": 3,
     "metadata": {},
     "output_type": "execute_result"
    }
   ],
   "source": [
    "img=cv2.imread('C:\\\\Users\\\\omkar\\\\OneDrive\\\\Documents\\\\Data science\\\\Naresh IT\\\\Data science\\\\Batch-1_May3\\\\DL\\\\Python codes\\\\my.jpg',\n",
    "               cv2.COLOR_BGR2GRAY)\n",
    "img"
   ]
  },
  {
   "cell_type": "code",
   "execution_count": 4,
   "metadata": {},
   "outputs": [],
   "source": [
    "cv2.imshow(\"image\",img)  # open a new window to show the image\n",
    "cv2.waitKey(0)          # if you want to close the image press 0\n",
    "cv2.destroyAllWindows() # the window will be closed"
   ]
  },
  {
   "cell_type": "code",
   "execution_count": 5,
   "metadata": {},
   "outputs": [],
   "source": [
    "# all together\n",
    "# we are reading an image\n",
    "# we are showing the imgage\n",
    "# we are applying a wait key\n",
    "# we are closing the image\n",
    "img=cv2.imread('C:\\\\Users\\\\omkar\\\\OneDrive\\\\Documents\\\\Data science\\\\Naresh IT\\\\Data science\\\\Batch-1_May3\\\\DL\\\\Python codes\\\\my.jpg',\n",
    "               cv2.COLOR_BGR2GRAY)\n",
    "\n",
    "cv2.imshow(\"image\",img)  # open a new window to show the image\n",
    "cv2.waitKey(0)          # if you want to close the image press 0\n",
    "cv2.destroyAllWindows()"
   ]
  },
  {
   "cell_type": "markdown",
   "metadata": {},
   "source": [
    "**cv2.rectangle**:\n",
    "    \n",
    "- Image paths\n",
    "\n",
    "- start_window= (5,5)\n",
    "\n",
    "- end_window= (200,200)\n",
    "\n",
    "- BGR : (255,0,0)\n",
    "    \n",
    "- thikness= 3"
   ]
  },
  {
   "cell_type": "code",
   "execution_count": 6,
   "metadata": {},
   "outputs": [],
   "source": [
    "img=cv2.imread('C:\\\\Users\\\\omkar\\\\OneDrive\\\\Documents\\\\Data science\\\\Naresh IT\\\\Data science\\\\Batch-1_May3\\\\DL\\\\Python codes\\\\my.jpg',\n",
    "               cv2.COLOR_BGR2GRAY)\n",
    "\n",
    "start_window=(5,5)\n",
    "end_window= (200,200)\n",
    "color=(0,0,255)\n",
    "thikness=5\n",
    "rec_image=cv2.rectangle(img,\n",
    "              start_window,\n",
    "              end_window,\n",
    "              color,\n",
    "              thikness)\n",
    "\n",
    "cv2.imshow(\"image\",rec_image)\n",
    "\n",
    "cv2.waitKey(0)         \n",
    "cv2.destroyAllWindows()\n",
    "\n",
    "# This is the problem \n",
    "# we need to provide correct values of start window and end window"
   ]
  },
  {
   "cell_type": "code",
   "execution_count": 7,
   "metadata": {},
   "outputs": [
    {
     "name": "stdout",
     "output_type": "stream",
     "text": [
      "[[52 37 75 75]]\n",
      "52 37\n",
      "75 75\n"
     ]
    }
   ],
   "source": [
    "img=cv2.imread('C:\\\\Users\\\\omkar\\\\OneDrive\\\\Documents\\\\Data science\\\\Naresh IT\\\\Data science\\\\Batch-1_May3\\\\DL\\\\Python codes\\\\my.jpg',cv2.COLOR_BGR2GRAY)\n",
    "face_cascade=cv2.CascadeClassifier('haarcascade_frontalface_default.xml')\n",
    "faces=face_cascade.detectMultiScale(img,1.1,4)\n",
    "print(faces)\n",
    "for (x,y,w,h) in faces:\n",
    "    print(x,y)\n",
    "    print(w,h)\n",
    "    cv2.rectangle(img,(x,y),(x+w,y+h),(0,0,255),3)   # B G  R  Red Is ON"
   ]
  },
  {
   "cell_type": "code",
   "execution_count": 8,
   "metadata": {},
   "outputs": [],
   "source": [
    "cv2.imshow('image',img)\n",
    "cv2.waitKey(0)\n",
    "cv2.destroyAllWindows()"
   ]
  },
  {
   "cell_type": "code",
   "execution_count": null,
   "metadata": {},
   "outputs": [],
   "source": [
    "#face_cascade = cv2.CascadeClassifier(cv2.data.haarcascades + 'haarcascade_frontalface_default.xml')\n",
    "#eye_cascade = cv2.CascadeClassifier(cv2.data.haarcascades + 'haarcascade_eye.xml')"
   ]
  },
  {
   "cell_type": "markdown",
   "metadata": {},
   "source": [
    "#### Video:"
   ]
  },
  {
   "cell_type": "code",
   "execution_count": 3,
   "metadata": {},
   "outputs": [],
   "source": [
    "cap=cv2.VideoCapture(0)\n",
    "while cap.isOpened():\n",
    "    has_frame,frame=cap.read()\n",
    "    imag=cv2.cvtColor(frame,cv2.COLOR_BGR2GRAY)\n",
    "    faces=face_cascade.detectMultiScale(imag,1.1,4)\n",
    "    for (x,y,w,h) in faces:\n",
    "        cv2.rectangle(imag,(x,y),(x+h,y+w),(255,0,0),3)\n",
    "    cv2.imshow('image',imag)\n",
    "    if cv2.waitKey(1) & 0xFF== ord('q'):\n",
    "        break\n",
    "cap.release()\n",
    "cv2.destroyAllWindows() \n"
   ]
  },
  {
   "cell_type": "markdown",
   "metadata": {},
   "source": [
    "#### With eyeball:"
   ]
  },
  {
   "cell_type": "code",
   "execution_count": 4,
   "metadata": {},
   "outputs": [],
   "source": [
    "import cv2\n",
    "eye_cascade=cv2.CascadeClassifier('haarcascade_eye.xml')\n",
    "face_cascade=cv2.CascadeClassifier('haarcascade_frontalface_default.xml')"
   ]
  },
  {
   "cell_type": "code",
   "execution_count": 5,
   "metadata": {},
   "outputs": [],
   "source": [
    "img=cv2.imread('C:\\\\Users\\\\omkar\\\\OneDrive\\\\Documents\\\\Data science\\\\Naresh IT\\\\Data science\\\\Batch-1_May3\\\\DL\\\\Python codes\\\\my.jpg',\n",
    "               cv2.COLOR_BGR2GRAY)"
   ]
  },
  {
   "cell_type": "code",
   "execution_count": 6,
   "metadata": {},
   "outputs": [],
   "source": [
    "cap=cv2.VideoCapture(0)\n",
    "while True:\n",
    "    has_frame,frame=cap.read()\n",
    "    gray=cv2.cvtColor(frame,cv2.COLOR_BGR2GRAY)\n",
    "    faces=face_cascade.detectMultiScale(gray,1.3,5)\n",
    "    for (x,y,w,h) in faces:\n",
    "        cv2.rectangle(frame,(x,y),(x+w,y+h),(255,0,0),2)\n",
    "        roi_gray=gray[y:y+h,x:x+w] #region of the image\n",
    "        roi_color=frame[y:y+h,x:x+w]\n",
    "        eyes=eye_cascade.detectMultiScale(roi_gray)\n",
    "        for (e_x,e_y,e_w,e_h) in eyes:\n",
    "            cv2.rectangle(roi_color,(e_x,e_y),(e_x+e_w,e_y+e_h),(0,255,0),2)\n",
    "    cv2.imshow('imag',frame)\n",
    "    if cv2.waitKey(1) & 0xFF==ord('q'):\n",
    "        break\n",
    "cap.release()\n",
    "cv2.destroyAllWindows()"
   ]
  },
  {
   "cell_type": "code",
   "execution_count": null,
   "metadata": {},
   "outputs": [],
   "source": []
  }
 ],
 "metadata": {
  "kernelspec": {
   "display_name": "Python 3 (ipykernel)",
   "language": "python",
   "name": "python3"
  },
  "language_info": {
   "codemirror_mode": {
    "name": "ipython",
    "version": 3
   },
   "file_extension": ".py",
   "mimetype": "text/x-python",
   "name": "python",
   "nbconvert_exporter": "python",
   "pygments_lexer": "ipython3",
   "version": "3.11.5"
  }
 },
 "nbformat": 4,
 "nbformat_minor": 2
}
