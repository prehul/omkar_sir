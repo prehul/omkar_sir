{
 "cells": [
  {
   "cell_type": "markdown",
   "id": "a056eae1",
   "metadata": {},
   "source": [
    "$Feature$-$Selection$"
   ]
  },
  {
   "cell_type": "markdown",
   "id": "91e70a89",
   "metadata": {},
   "source": [
    "**Retrival the important features, selecting an important features is very important step before going to ML**\n",
    "\n",
    "- Droping the constant fetaures\n",
    "\n",
    "- Information gain\n",
    "\n",
    "- p-value\n",
    "\n",
    "- Forward selection and backward selection\n",
    "\n",
    "- Correlation with target column"
   ]
  },
  {
   "cell_type": "markdown",
   "id": "ab4077c8",
   "metadata": {},
   "source": [
    "Feature selection methods\n",
    "\n",
    "1) Variance threshold:\n",
    "    \n",
    "    - based on variance we can decide the data is constant or varying \n",
    "\n",
    "2) P-value    \n",
    "\n",
    "    - H0: there is no relation x andy\n",
    "        \n",
    "    - H1: There is relation   X and Y\n",
    "        \n",
    "    - p<0.05     \n",
    "    \n",
    "        - Reject the Null hypothesis\n",
    "\n",
    "\n",
    "3)  Mutual info classify :  \n",
    "    \n",
    "    - KNN and entropy\n",
    "\n",
    "    - It will give the relation between input and output will pick which are having more relation\n",
    "\n",
    "    - input vs output\n",
    "    \n",
    "        - 1) Entropy \n",
    "        \n",
    "        - 2) KNN \n",
    "        \n",
    "        - 3) R-square: explainability about y based on x\n",
    "\n",
    "4) Forward selection and backward selection\n",
    "     \n",
    "     https://courses.lumenlearning.com/introstats1/chapter/model-selection/#:~:text=The%20forward%20selection%20strategy%20is,measured%20by%20adjusted%20R2).\n"
   ]
  },
  {
   "cell_type": "markdown",
   "id": "c05561e5",
   "metadata": {},
   "source": [
    "$Method-1$:  Variance threshold method\n",
    "\n",
    "**Droping constanat fetaures**\n",
    "\n",
    "- If the features or variables having zero varinace\n",
    "\n",
    "- the feature values through out the data is the same\n",
    "\n",
    "- you can decide manually what is your desired variance in order to keep the feature"
   ]
  },
  {
   "cell_type": "code",
   "execution_count": 1,
   "id": "7712ba46",
   "metadata": {},
   "outputs": [
    {
     "data": {
      "text/html": [
       "<div>\n",
       "<style scoped>\n",
       "    .dataframe tbody tr th:only-of-type {\n",
       "        vertical-align: middle;\n",
       "    }\n",
       "\n",
       "    .dataframe tbody tr th {\n",
       "        vertical-align: top;\n",
       "    }\n",
       "\n",
       "    .dataframe thead th {\n",
       "        text-align: right;\n",
       "    }\n",
       "</style>\n",
       "<table border=\"1\" class=\"dataframe\">\n",
       "  <thead>\n",
       "    <tr style=\"text-align: right;\">\n",
       "      <th></th>\n",
       "      <th>A</th>\n",
       "      <th>B</th>\n",
       "      <th>C</th>\n",
       "      <th>D</th>\n",
       "    </tr>\n",
       "  </thead>\n",
       "  <tbody>\n",
       "    <tr>\n",
       "      <th>0</th>\n",
       "      <td>100</td>\n",
       "      <td>1</td>\n",
       "      <td>10</td>\n",
       "      <td>10</td>\n",
       "    </tr>\n",
       "    <tr>\n",
       "      <th>1</th>\n",
       "      <td>200</td>\n",
       "      <td>2</td>\n",
       "      <td>20</td>\n",
       "      <td>10</td>\n",
       "    </tr>\n",
       "    <tr>\n",
       "      <th>2</th>\n",
       "      <td>300</td>\n",
       "      <td>3</td>\n",
       "      <td>30</td>\n",
       "      <td>10</td>\n",
       "    </tr>\n",
       "    <tr>\n",
       "      <th>3</th>\n",
       "      <td>400</td>\n",
       "      <td>4</td>\n",
       "      <td>40</td>\n",
       "      <td>10</td>\n",
       "    </tr>\n",
       "  </tbody>\n",
       "</table>\n",
       "</div>"
      ],
      "text/plain": [
       "     A  B   C   D\n",
       "0  100  1  10  10\n",
       "1  200  2  20  10\n",
       "2  300  3  30  10\n",
       "3  400  4  40  10"
      ]
     },
     "execution_count": 1,
     "metadata": {},
     "output_type": "execute_result"
    }
   ],
   "source": [
    "import pandas as pd\n",
    "dict1={'A':[100,200,300,400],\n",
    "       'B':[1,2,3,4],\n",
    "       'C':[10,20,30,40],\n",
    "       'D':[10,10,10,10]}\n",
    "\n",
    "df=pd.DataFrame(dict1)\n",
    "df"
   ]
  },
  {
   "cell_type": "code",
   "execution_count": 2,
   "id": "c764e929",
   "metadata": {},
   "outputs": [
    {
     "data": {
      "text/html": [
       "<style>#sk-container-id-1 {color: black;}#sk-container-id-1 pre{padding: 0;}#sk-container-id-1 div.sk-toggleable {background-color: white;}#sk-container-id-1 label.sk-toggleable__label {cursor: pointer;display: block;width: 100%;margin-bottom: 0;padding: 0.3em;box-sizing: border-box;text-align: center;}#sk-container-id-1 label.sk-toggleable__label-arrow:before {content: \"▸\";float: left;margin-right: 0.25em;color: #696969;}#sk-container-id-1 label.sk-toggleable__label-arrow:hover:before {color: black;}#sk-container-id-1 div.sk-estimator:hover label.sk-toggleable__label-arrow:before {color: black;}#sk-container-id-1 div.sk-toggleable__content {max-height: 0;max-width: 0;overflow: hidden;text-align: left;background-color: #f0f8ff;}#sk-container-id-1 div.sk-toggleable__content pre {margin: 0.2em;color: black;border-radius: 0.25em;background-color: #f0f8ff;}#sk-container-id-1 input.sk-toggleable__control:checked~div.sk-toggleable__content {max-height: 200px;max-width: 100%;overflow: auto;}#sk-container-id-1 input.sk-toggleable__control:checked~label.sk-toggleable__label-arrow:before {content: \"▾\";}#sk-container-id-1 div.sk-estimator input.sk-toggleable__control:checked~label.sk-toggleable__label {background-color: #d4ebff;}#sk-container-id-1 div.sk-label input.sk-toggleable__control:checked~label.sk-toggleable__label {background-color: #d4ebff;}#sk-container-id-1 input.sk-hidden--visually {border: 0;clip: rect(1px 1px 1px 1px);clip: rect(1px, 1px, 1px, 1px);height: 1px;margin: -1px;overflow: hidden;padding: 0;position: absolute;width: 1px;}#sk-container-id-1 div.sk-estimator {font-family: monospace;background-color: #f0f8ff;border: 1px dotted black;border-radius: 0.25em;box-sizing: border-box;margin-bottom: 0.5em;}#sk-container-id-1 div.sk-estimator:hover {background-color: #d4ebff;}#sk-container-id-1 div.sk-parallel-item::after {content: \"\";width: 100%;border-bottom: 1px solid gray;flex-grow: 1;}#sk-container-id-1 div.sk-label:hover label.sk-toggleable__label {background-color: #d4ebff;}#sk-container-id-1 div.sk-serial::before {content: \"\";position: absolute;border-left: 1px solid gray;box-sizing: border-box;top: 0;bottom: 0;left: 50%;z-index: 0;}#sk-container-id-1 div.sk-serial {display: flex;flex-direction: column;align-items: center;background-color: white;padding-right: 0.2em;padding-left: 0.2em;position: relative;}#sk-container-id-1 div.sk-item {position: relative;z-index: 1;}#sk-container-id-1 div.sk-parallel {display: flex;align-items: stretch;justify-content: center;background-color: white;position: relative;}#sk-container-id-1 div.sk-item::before, #sk-container-id-1 div.sk-parallel-item::before {content: \"\";position: absolute;border-left: 1px solid gray;box-sizing: border-box;top: 0;bottom: 0;left: 50%;z-index: -1;}#sk-container-id-1 div.sk-parallel-item {display: flex;flex-direction: column;z-index: 1;position: relative;background-color: white;}#sk-container-id-1 div.sk-parallel-item:first-child::after {align-self: flex-end;width: 50%;}#sk-container-id-1 div.sk-parallel-item:last-child::after {align-self: flex-start;width: 50%;}#sk-container-id-1 div.sk-parallel-item:only-child::after {width: 0;}#sk-container-id-1 div.sk-dashed-wrapped {border: 1px dashed gray;margin: 0 0.4em 0.5em 0.4em;box-sizing: border-box;padding-bottom: 0.4em;background-color: white;}#sk-container-id-1 div.sk-label label {font-family: monospace;font-weight: bold;display: inline-block;line-height: 1.2em;}#sk-container-id-1 div.sk-label-container {text-align: center;}#sk-container-id-1 div.sk-container {/* jupyter's `normalize.less` sets `[hidden] { display: none; }` but bootstrap.min.css set `[hidden] { display: none !important; }` so we also need the `!important` here to be able to override the default hidden behavior on the sphinx rendered scikit-learn.org. See: https://github.com/scikit-learn/scikit-learn/issues/21755 */display: inline-block !important;position: relative;}#sk-container-id-1 div.sk-text-repr-fallback {display: none;}</style><div id=\"sk-container-id-1\" class=\"sk-top-container\"><div class=\"sk-text-repr-fallback\"><pre>VarianceThreshold(threshold=0)</pre><b>In a Jupyter environment, please rerun this cell to show the HTML representation or trust the notebook. <br />On GitHub, the HTML representation is unable to render, please try loading this page with nbviewer.org.</b></div><div class=\"sk-container\" hidden><div class=\"sk-item\"><div class=\"sk-estimator sk-toggleable\"><input class=\"sk-toggleable__control sk-hidden--visually\" id=\"sk-estimator-id-1\" type=\"checkbox\" checked><label for=\"sk-estimator-id-1\" class=\"sk-toggleable__label sk-toggleable__label-arrow\">VarianceThreshold</label><div class=\"sk-toggleable__content\"><pre>VarianceThreshold(threshold=0)</pre></div></div></div></div></div>"
      ],
      "text/plain": [
       "VarianceThreshold(threshold=0)"
      ]
     },
     "execution_count": 2,
     "metadata": {},
     "output_type": "execute_result"
    }
   ],
   "source": [
    "from sklearn.feature_selection import VarianceThreshold\n",
    "vt=VarianceThreshold(threshold=0)\n",
    "vt.fit(df)"
   ]
  },
  {
   "cell_type": "code",
   "execution_count": null,
   "id": "9eaaa80d",
   "metadata": {},
   "outputs": [],
   "source": [
    "dir(vt)"
   ]
  },
  {
   "cell_type": "code",
   "execution_count": null,
   "id": "3526aa49",
   "metadata": {},
   "outputs": [],
   "source": [
    "df  \n",
    "\n",
    "# The column D is not changing\n",
    "# The column D has same values\n",
    "# Same values means the variance =0\n",
    "# I keep threshld=0\n",
    "# D should remove\n",
    "\n",
    "#df[['A','B','C']]\n",
    "#df[[True,True,True,False]]\n",
    "#df[vt.get_support()]"
   ]
  },
  {
   "cell_type": "code",
   "execution_count": null,
   "id": "4d659308",
   "metadata": {},
   "outputs": [],
   "source": [
    "vt.get_support()\n",
    "\n",
    "# True : the variance not equal to zero\n",
    "# False: the variance is equal to zero"
   ]
  },
  {
   "cell_type": "code",
   "execution_count": null,
   "id": "812ef4c9",
   "metadata": {},
   "outputs": [],
   "source": [
    "# I need the columns those have support=True\n",
    "df.columns"
   ]
  },
  {
   "cell_type": "markdown",
   "id": "e6bd6b82",
   "metadata": {},
   "source": [
    "if the values are constant and if one value is zero we will remove that row or column?\n",
    "\n",
    " - you want to drop the columns: if that column is useless\n",
    "    \n",
    " - the data is not changing much:variance is zero"
   ]
  },
  {
   "cell_type": "code",
   "execution_count": null,
   "id": "495e38e7",
   "metadata": {},
   "outputs": [],
   "source": [
    "vt.get_params() # What is the threshold value it is using"
   ]
  },
  {
   "cell_type": "code",
   "execution_count": null,
   "id": "5b3eb386",
   "metadata": {},
   "outputs": [],
   "source": [
    "vt.get_support()"
   ]
  },
  {
   "cell_type": "code",
   "execution_count": null,
   "id": "954e7dc1",
   "metadata": {},
   "outputs": [],
   "source": [
    "cols=df.columns[vt.get_support()]  \n",
    "cols\n",
    "# D is removed"
   ]
  },
  {
   "cell_type": "code",
   "execution_count": null,
   "id": "9b0333e7",
   "metadata": {},
   "outputs": [],
   "source": [
    "# Normal python implementation\n",
    "# support=vt.get_support()\n",
    "# for i in range(len(support)):\n",
    "#     if support[i]==True:\n",
    "#         print(df.columns[i])"
   ]
  },
  {
   "cell_type": "code",
   "execution_count": null,
   "id": "41e1cccf",
   "metadata": {},
   "outputs": [],
   "source": [
    "# Task: implememt the same task on wine data\n",
    "# change the threshold  \n",
    "# keep 0\n",
    "# keep 0.5\n",
    "\n",
    "# keep that in mind dont drop output column\n",
    "\n",
    "df=#data\n",
    "from sklearn.feature_selection import VarianceThreshold\n",
    "vt=VarianceThreshold(threshold=0)\n",
    "vt.fit(df)\n",
    "\n",
    "cols=df.columns[vt.get_support()]  \n",
    "cols"
   ]
  },
  {
   "cell_type": "code",
   "execution_count": null,
   "id": "b853bfe6",
   "metadata": {},
   "outputs": [],
   "source": [
    "df"
   ]
  },
  {
   "cell_type": "code",
   "execution_count": null,
   "id": "c769a284",
   "metadata": {},
   "outputs": [],
   "source": [
    "df[cols]"
   ]
  },
  {
   "cell_type": "code",
   "execution_count": null,
   "id": "961ac20a",
   "metadata": {},
   "outputs": [],
   "source": [
    "from sklearn.feature_selection import VarianceThreshold\n",
    "vt=VarianceThreshold(threshold=0)\n",
    "vt.fit(df)\n",
    "cols=df.columns[vt.get_support()]  \n",
    "df[cols]\n",
    "\n",
    "# Dont do on Target varaible\n",
    "# while providng the data remove the target variables"
   ]
  },
  {
   "cell_type": "code",
   "execution_count": 3,
   "id": "8cbc0d8c",
   "metadata": {},
   "outputs": [
    {
     "data": {
      "text/html": [
       "<div>\n",
       "<style scoped>\n",
       "    .dataframe tbody tr th:only-of-type {\n",
       "        vertical-align: middle;\n",
       "    }\n",
       "\n",
       "    .dataframe tbody tr th {\n",
       "        vertical-align: top;\n",
       "    }\n",
       "\n",
       "    .dataframe thead th {\n",
       "        text-align: right;\n",
       "    }\n",
       "</style>\n",
       "<table border=\"1\" class=\"dataframe\">\n",
       "  <thead>\n",
       "    <tr style=\"text-align: right;\">\n",
       "      <th></th>\n",
       "      <th>fixed acidity</th>\n",
       "      <th>volatile acidity</th>\n",
       "      <th>citric acid</th>\n",
       "      <th>residual sugar</th>\n",
       "      <th>chlorides</th>\n",
       "      <th>free sulfur dioxide</th>\n",
       "      <th>total sulfur dioxide</th>\n",
       "      <th>density</th>\n",
       "      <th>pH</th>\n",
       "      <th>sulphates</th>\n",
       "      <th>alcohol</th>\n",
       "      <th>quality</th>\n",
       "    </tr>\n",
       "  </thead>\n",
       "  <tbody>\n",
       "    <tr>\n",
       "      <th>0</th>\n",
       "      <td>7.4</td>\n",
       "      <td>0.70</td>\n",
       "      <td>0.00</td>\n",
       "      <td>1.9</td>\n",
       "      <td>0.076</td>\n",
       "      <td>11.0</td>\n",
       "      <td>34.0</td>\n",
       "      <td>0.9978</td>\n",
       "      <td>3.51</td>\n",
       "      <td>0.56</td>\n",
       "      <td>9.4</td>\n",
       "      <td>5</td>\n",
       "    </tr>\n",
       "    <tr>\n",
       "      <th>1</th>\n",
       "      <td>7.8</td>\n",
       "      <td>0.88</td>\n",
       "      <td>0.00</td>\n",
       "      <td>2.6</td>\n",
       "      <td>0.098</td>\n",
       "      <td>25.0</td>\n",
       "      <td>67.0</td>\n",
       "      <td>0.9968</td>\n",
       "      <td>3.20</td>\n",
       "      <td>0.68</td>\n",
       "      <td>9.8</td>\n",
       "      <td>5</td>\n",
       "    </tr>\n",
       "    <tr>\n",
       "      <th>2</th>\n",
       "      <td>7.8</td>\n",
       "      <td>0.76</td>\n",
       "      <td>0.04</td>\n",
       "      <td>2.3</td>\n",
       "      <td>0.092</td>\n",
       "      <td>15.0</td>\n",
       "      <td>54.0</td>\n",
       "      <td>0.9970</td>\n",
       "      <td>3.26</td>\n",
       "      <td>0.65</td>\n",
       "      <td>9.8</td>\n",
       "      <td>5</td>\n",
       "    </tr>\n",
       "    <tr>\n",
       "      <th>3</th>\n",
       "      <td>11.2</td>\n",
       "      <td>0.28</td>\n",
       "      <td>0.56</td>\n",
       "      <td>1.9</td>\n",
       "      <td>0.075</td>\n",
       "      <td>17.0</td>\n",
       "      <td>60.0</td>\n",
       "      <td>0.9980</td>\n",
       "      <td>3.16</td>\n",
       "      <td>0.58</td>\n",
       "      <td>9.8</td>\n",
       "      <td>6</td>\n",
       "    </tr>\n",
       "    <tr>\n",
       "      <th>4</th>\n",
       "      <td>7.4</td>\n",
       "      <td>0.70</td>\n",
       "      <td>0.00</td>\n",
       "      <td>1.9</td>\n",
       "      <td>0.076</td>\n",
       "      <td>11.0</td>\n",
       "      <td>34.0</td>\n",
       "      <td>0.9978</td>\n",
       "      <td>3.51</td>\n",
       "      <td>0.56</td>\n",
       "      <td>9.4</td>\n",
       "      <td>5</td>\n",
       "    </tr>\n",
       "  </tbody>\n",
       "</table>\n",
       "</div>"
      ],
      "text/plain": [
       "   fixed acidity  volatile acidity  citric acid  residual sugar  chlorides  \\\n",
       "0            7.4              0.70         0.00             1.9      0.076   \n",
       "1            7.8              0.88         0.00             2.6      0.098   \n",
       "2            7.8              0.76         0.04             2.3      0.092   \n",
       "3           11.2              0.28         0.56             1.9      0.075   \n",
       "4            7.4              0.70         0.00             1.9      0.076   \n",
       "\n",
       "   free sulfur dioxide  total sulfur dioxide  density    pH  sulphates  \\\n",
       "0                 11.0                  34.0   0.9978  3.51       0.56   \n",
       "1                 25.0                  67.0   0.9968  3.20       0.68   \n",
       "2                 15.0                  54.0   0.9970  3.26       0.65   \n",
       "3                 17.0                  60.0   0.9980  3.16       0.58   \n",
       "4                 11.0                  34.0   0.9978  3.51       0.56   \n",
       "\n",
       "   alcohol  quality  \n",
       "0      9.4        5  \n",
       "1      9.8        5  \n",
       "2      9.8        5  \n",
       "3      9.8        6  \n",
       "4      9.4        5  "
      ]
     },
     "execution_count": 3,
     "metadata": {},
     "output_type": "execute_result"
    }
   ],
   "source": [
    "import pandas as pd\n",
    "\n",
    "data=pd.read_csv(\"winequality_red.csv\")\n",
    "data.head()"
   ]
  },
  {
   "cell_type": "code",
   "execution_count": 4,
   "id": "b470f865",
   "metadata": {},
   "outputs": [
    {
     "data": {
      "text/plain": [
       "Index(['fixed acidity', 'volatile acidity', 'citric acid', 'residual sugar',\n",
       "       'chlorides', 'free sulfur dioxide', 'total sulfur dioxide', 'density',\n",
       "       'pH', 'sulphates', 'alcohol', 'quality'],\n",
       "      dtype='object')"
      ]
     },
     "execution_count": 4,
     "metadata": {},
     "output_type": "execute_result"
    }
   ],
   "source": [
    "# Apply only Input columns\n",
    "# drop the target column: quality\n",
    "data.columns"
   ]
  },
  {
   "cell_type": "code",
   "execution_count": 5,
   "id": "7f53add8",
   "metadata": {},
   "outputs": [
    {
     "name": "stdout",
     "output_type": "stream",
     "text": [
      "(1599, 11)\n"
     ]
    }
   ],
   "source": [
    "# Seperate input and output column\n",
    "X=data.drop('quality',axis=1) \n",
    "# inplace =True  data will with out quality  \n",
    "# dont apply inplace True\n",
    "X.columns\n",
    "print(X.shape)\n",
    "y=data['quality']"
   ]
  },
  {
   "cell_type": "code",
   "execution_count": null,
   "id": "c817e6f6",
   "metadata": {},
   "outputs": [],
   "source": [
    "# Here in two examples I have taken numerical data\n",
    "# Will convert categorical data to numerical data before developing the ML algorithm\n",
    "# thats why here im using only numerical data"
   ]
  },
  {
   "cell_type": "code",
   "execution_count": 8,
   "id": "4508a048",
   "metadata": {},
   "outputs": [
    {
     "data": {
      "text/html": [
       "<div>\n",
       "<style scoped>\n",
       "    .dataframe tbody tr th:only-of-type {\n",
       "        vertical-align: middle;\n",
       "    }\n",
       "\n",
       "    .dataframe tbody tr th {\n",
       "        vertical-align: top;\n",
       "    }\n",
       "\n",
       "    .dataframe thead th {\n",
       "        text-align: right;\n",
       "    }\n",
       "</style>\n",
       "<table border=\"1\" class=\"dataframe\">\n",
       "  <thead>\n",
       "    <tr style=\"text-align: right;\">\n",
       "      <th></th>\n",
       "      <th>fixed acidity</th>\n",
       "      <th>residual sugar</th>\n",
       "      <th>free sulfur dioxide</th>\n",
       "      <th>total sulfur dioxide</th>\n",
       "      <th>alcohol</th>\n",
       "    </tr>\n",
       "  </thead>\n",
       "  <tbody>\n",
       "    <tr>\n",
       "      <th>0</th>\n",
       "      <td>7.4</td>\n",
       "      <td>1.9</td>\n",
       "      <td>11.0</td>\n",
       "      <td>34.0</td>\n",
       "      <td>9.4</td>\n",
       "    </tr>\n",
       "    <tr>\n",
       "      <th>1</th>\n",
       "      <td>7.8</td>\n",
       "      <td>2.6</td>\n",
       "      <td>25.0</td>\n",
       "      <td>67.0</td>\n",
       "      <td>9.8</td>\n",
       "    </tr>\n",
       "    <tr>\n",
       "      <th>2</th>\n",
       "      <td>7.8</td>\n",
       "      <td>2.3</td>\n",
       "      <td>15.0</td>\n",
       "      <td>54.0</td>\n",
       "      <td>9.8</td>\n",
       "    </tr>\n",
       "    <tr>\n",
       "      <th>3</th>\n",
       "      <td>11.2</td>\n",
       "      <td>1.9</td>\n",
       "      <td>17.0</td>\n",
       "      <td>60.0</td>\n",
       "      <td>9.8</td>\n",
       "    </tr>\n",
       "    <tr>\n",
       "      <th>4</th>\n",
       "      <td>7.4</td>\n",
       "      <td>1.9</td>\n",
       "      <td>11.0</td>\n",
       "      <td>34.0</td>\n",
       "      <td>9.4</td>\n",
       "    </tr>\n",
       "    <tr>\n",
       "      <th>...</th>\n",
       "      <td>...</td>\n",
       "      <td>...</td>\n",
       "      <td>...</td>\n",
       "      <td>...</td>\n",
       "      <td>...</td>\n",
       "    </tr>\n",
       "    <tr>\n",
       "      <th>1594</th>\n",
       "      <td>6.2</td>\n",
       "      <td>2.0</td>\n",
       "      <td>32.0</td>\n",
       "      <td>44.0</td>\n",
       "      <td>10.5</td>\n",
       "    </tr>\n",
       "    <tr>\n",
       "      <th>1595</th>\n",
       "      <td>5.9</td>\n",
       "      <td>2.2</td>\n",
       "      <td>39.0</td>\n",
       "      <td>51.0</td>\n",
       "      <td>11.2</td>\n",
       "    </tr>\n",
       "    <tr>\n",
       "      <th>1596</th>\n",
       "      <td>6.3</td>\n",
       "      <td>2.3</td>\n",
       "      <td>29.0</td>\n",
       "      <td>40.0</td>\n",
       "      <td>11.0</td>\n",
       "    </tr>\n",
       "    <tr>\n",
       "      <th>1597</th>\n",
       "      <td>5.9</td>\n",
       "      <td>2.0</td>\n",
       "      <td>32.0</td>\n",
       "      <td>44.0</td>\n",
       "      <td>10.2</td>\n",
       "    </tr>\n",
       "    <tr>\n",
       "      <th>1598</th>\n",
       "      <td>6.0</td>\n",
       "      <td>3.6</td>\n",
       "      <td>18.0</td>\n",
       "      <td>42.0</td>\n",
       "      <td>11.0</td>\n",
       "    </tr>\n",
       "  </tbody>\n",
       "</table>\n",
       "<p>1599 rows × 5 columns</p>\n",
       "</div>"
      ],
      "text/plain": [
       "      fixed acidity  residual sugar  free sulfur dioxide  \\\n",
       "0               7.4             1.9                 11.0   \n",
       "1               7.8             2.6                 25.0   \n",
       "2               7.8             2.3                 15.0   \n",
       "3              11.2             1.9                 17.0   \n",
       "4               7.4             1.9                 11.0   \n",
       "...             ...             ...                  ...   \n",
       "1594            6.2             2.0                 32.0   \n",
       "1595            5.9             2.2                 39.0   \n",
       "1596            6.3             2.3                 29.0   \n",
       "1597            5.9             2.0                 32.0   \n",
       "1598            6.0             3.6                 18.0   \n",
       "\n",
       "      total sulfur dioxide  alcohol  \n",
       "0                     34.0      9.4  \n",
       "1                     67.0      9.8  \n",
       "2                     54.0      9.8  \n",
       "3                     60.0      9.8  \n",
       "4                     34.0      9.4  \n",
       "...                    ...      ...  \n",
       "1594                  44.0     10.5  \n",
       "1595                  51.0     11.2  \n",
       "1596                  40.0     11.0  \n",
       "1597                  44.0     10.2  \n",
       "1598                  42.0     11.0  \n",
       "\n",
       "[1599 rows x 5 columns]"
      ]
     },
     "execution_count": 8,
     "metadata": {},
     "output_type": "execute_result"
    }
   ],
   "source": [
    "from sklearn.feature_selection import VarianceThreshold\n",
    "vt=VarianceThreshold(threshold=1)\n",
    "vt.fit(X)\n",
    "cols=X.columns[vt.get_support()]\n",
    "X[cols]\n"
   ]
  },
  {
   "cell_type": "code",
   "execution_count": null,
   "id": "7a691977",
   "metadata": {},
   "outputs": [],
   "source": [
    "# if complete row is NaN can we drop NaN values\n",
    "\n",
    "# many approaches ===== R &D \n",
    "# 100 : 50 NaN "
   ]
  },
  {
   "cell_type": "code",
   "execution_count": 12,
   "id": "477cb9cb",
   "metadata": {},
   "outputs": [
    {
     "data": {
      "text/html": [
       "<div>\n",
       "<style scoped>\n",
       "    .dataframe tbody tr th:only-of-type {\n",
       "        vertical-align: middle;\n",
       "    }\n",
       "\n",
       "    .dataframe tbody tr th {\n",
       "        vertical-align: top;\n",
       "    }\n",
       "\n",
       "    .dataframe thead th {\n",
       "        text-align: right;\n",
       "    }\n",
       "</style>\n",
       "<table border=\"1\" class=\"dataframe\">\n",
       "  <thead>\n",
       "    <tr style=\"text-align: right;\">\n",
       "      <th></th>\n",
       "      <th>fixed acidity</th>\n",
       "      <th>volatile acidity</th>\n",
       "      <th>citric acid</th>\n",
       "      <th>residual sugar</th>\n",
       "      <th>chlorides</th>\n",
       "      <th>free sulfur dioxide</th>\n",
       "      <th>total sulfur dioxide</th>\n",
       "      <th>density</th>\n",
       "      <th>pH</th>\n",
       "      <th>sulphates</th>\n",
       "      <th>alcohol</th>\n",
       "    </tr>\n",
       "  </thead>\n",
       "  <tbody>\n",
       "    <tr>\n",
       "      <th>0</th>\n",
       "      <td>7.4</td>\n",
       "      <td>0.700</td>\n",
       "      <td>0.00</td>\n",
       "      <td>1.9</td>\n",
       "      <td>0.076</td>\n",
       "      <td>11.0</td>\n",
       "      <td>34.0</td>\n",
       "      <td>0.99780</td>\n",
       "      <td>3.51</td>\n",
       "      <td>0.56</td>\n",
       "      <td>9.4</td>\n",
       "    </tr>\n",
       "    <tr>\n",
       "      <th>1</th>\n",
       "      <td>7.8</td>\n",
       "      <td>0.880</td>\n",
       "      <td>0.00</td>\n",
       "      <td>2.6</td>\n",
       "      <td>0.098</td>\n",
       "      <td>25.0</td>\n",
       "      <td>67.0</td>\n",
       "      <td>0.99680</td>\n",
       "      <td>3.20</td>\n",
       "      <td>0.68</td>\n",
       "      <td>9.8</td>\n",
       "    </tr>\n",
       "    <tr>\n",
       "      <th>2</th>\n",
       "      <td>7.8</td>\n",
       "      <td>0.760</td>\n",
       "      <td>0.04</td>\n",
       "      <td>2.3</td>\n",
       "      <td>0.092</td>\n",
       "      <td>15.0</td>\n",
       "      <td>54.0</td>\n",
       "      <td>0.99700</td>\n",
       "      <td>3.26</td>\n",
       "      <td>0.65</td>\n",
       "      <td>9.8</td>\n",
       "    </tr>\n",
       "    <tr>\n",
       "      <th>3</th>\n",
       "      <td>11.2</td>\n",
       "      <td>0.280</td>\n",
       "      <td>0.56</td>\n",
       "      <td>1.9</td>\n",
       "      <td>0.075</td>\n",
       "      <td>17.0</td>\n",
       "      <td>60.0</td>\n",
       "      <td>0.99800</td>\n",
       "      <td>3.16</td>\n",
       "      <td>0.58</td>\n",
       "      <td>9.8</td>\n",
       "    </tr>\n",
       "    <tr>\n",
       "      <th>4</th>\n",
       "      <td>7.4</td>\n",
       "      <td>0.700</td>\n",
       "      <td>0.00</td>\n",
       "      <td>1.9</td>\n",
       "      <td>0.076</td>\n",
       "      <td>11.0</td>\n",
       "      <td>34.0</td>\n",
       "      <td>0.99780</td>\n",
       "      <td>3.51</td>\n",
       "      <td>0.56</td>\n",
       "      <td>9.4</td>\n",
       "    </tr>\n",
       "    <tr>\n",
       "      <th>...</th>\n",
       "      <td>...</td>\n",
       "      <td>...</td>\n",
       "      <td>...</td>\n",
       "      <td>...</td>\n",
       "      <td>...</td>\n",
       "      <td>...</td>\n",
       "      <td>...</td>\n",
       "      <td>...</td>\n",
       "      <td>...</td>\n",
       "      <td>...</td>\n",
       "      <td>...</td>\n",
       "    </tr>\n",
       "    <tr>\n",
       "      <th>1594</th>\n",
       "      <td>6.2</td>\n",
       "      <td>0.600</td>\n",
       "      <td>0.08</td>\n",
       "      <td>2.0</td>\n",
       "      <td>0.090</td>\n",
       "      <td>32.0</td>\n",
       "      <td>44.0</td>\n",
       "      <td>0.99490</td>\n",
       "      <td>3.45</td>\n",
       "      <td>0.58</td>\n",
       "      <td>10.5</td>\n",
       "    </tr>\n",
       "    <tr>\n",
       "      <th>1595</th>\n",
       "      <td>5.9</td>\n",
       "      <td>0.550</td>\n",
       "      <td>0.10</td>\n",
       "      <td>2.2</td>\n",
       "      <td>0.062</td>\n",
       "      <td>39.0</td>\n",
       "      <td>51.0</td>\n",
       "      <td>0.99512</td>\n",
       "      <td>3.52</td>\n",
       "      <td>0.76</td>\n",
       "      <td>11.2</td>\n",
       "    </tr>\n",
       "    <tr>\n",
       "      <th>1596</th>\n",
       "      <td>6.3</td>\n",
       "      <td>0.510</td>\n",
       "      <td>0.13</td>\n",
       "      <td>2.3</td>\n",
       "      <td>0.076</td>\n",
       "      <td>29.0</td>\n",
       "      <td>40.0</td>\n",
       "      <td>0.99574</td>\n",
       "      <td>3.42</td>\n",
       "      <td>0.75</td>\n",
       "      <td>11.0</td>\n",
       "    </tr>\n",
       "    <tr>\n",
       "      <th>1597</th>\n",
       "      <td>5.9</td>\n",
       "      <td>0.645</td>\n",
       "      <td>0.12</td>\n",
       "      <td>2.0</td>\n",
       "      <td>0.075</td>\n",
       "      <td>32.0</td>\n",
       "      <td>44.0</td>\n",
       "      <td>0.99547</td>\n",
       "      <td>3.57</td>\n",
       "      <td>0.71</td>\n",
       "      <td>10.2</td>\n",
       "    </tr>\n",
       "    <tr>\n",
       "      <th>1598</th>\n",
       "      <td>6.0</td>\n",
       "      <td>0.310</td>\n",
       "      <td>0.47</td>\n",
       "      <td>3.6</td>\n",
       "      <td>0.067</td>\n",
       "      <td>18.0</td>\n",
       "      <td>42.0</td>\n",
       "      <td>0.99549</td>\n",
       "      <td>3.39</td>\n",
       "      <td>0.66</td>\n",
       "      <td>11.0</td>\n",
       "    </tr>\n",
       "  </tbody>\n",
       "</table>\n",
       "<p>1599 rows × 11 columns</p>\n",
       "</div>"
      ],
      "text/plain": [
       "      fixed acidity  volatile acidity  citric acid  residual sugar  chlorides  \\\n",
       "0               7.4             0.700         0.00             1.9      0.076   \n",
       "1               7.8             0.880         0.00             2.6      0.098   \n",
       "2               7.8             0.760         0.04             2.3      0.092   \n",
       "3              11.2             0.280         0.56             1.9      0.075   \n",
       "4               7.4             0.700         0.00             1.9      0.076   \n",
       "...             ...               ...          ...             ...        ...   \n",
       "1594            6.2             0.600         0.08             2.0      0.090   \n",
       "1595            5.9             0.550         0.10             2.2      0.062   \n",
       "1596            6.3             0.510         0.13             2.3      0.076   \n",
       "1597            5.9             0.645         0.12             2.0      0.075   \n",
       "1598            6.0             0.310         0.47             3.6      0.067   \n",
       "\n",
       "      free sulfur dioxide  total sulfur dioxide  density    pH  sulphates  \\\n",
       "0                    11.0                  34.0  0.99780  3.51       0.56   \n",
       "1                    25.0                  67.0  0.99680  3.20       0.68   \n",
       "2                    15.0                  54.0  0.99700  3.26       0.65   \n",
       "3                    17.0                  60.0  0.99800  3.16       0.58   \n",
       "4                    11.0                  34.0  0.99780  3.51       0.56   \n",
       "...                   ...                   ...      ...   ...        ...   \n",
       "1594                 32.0                  44.0  0.99490  3.45       0.58   \n",
       "1595                 39.0                  51.0  0.99512  3.52       0.76   \n",
       "1596                 29.0                  40.0  0.99574  3.42       0.75   \n",
       "1597                 32.0                  44.0  0.99547  3.57       0.71   \n",
       "1598                 18.0                  42.0  0.99549  3.39       0.66   \n",
       "\n",
       "      alcohol  \n",
       "0         9.4  \n",
       "1         9.8  \n",
       "2         9.8  \n",
       "3         9.8  \n",
       "4         9.4  \n",
       "...       ...  \n",
       "1594     10.5  \n",
       "1595     11.2  \n",
       "1596     11.0  \n",
       "1597     10.2  \n",
       "1598     11.0  \n",
       "\n",
       "[1599 rows x 11 columns]"
      ]
     },
     "execution_count": 12,
     "metadata": {},
     "output_type": "execute_result"
    }
   ],
   "source": [
    "import pandas as pd\n",
    "\n",
    "data=pd.read_csv(\"winequality_red.csv\")\n",
    "data.head()\n",
    "\n",
    "X=data.drop('quality',axis=1) \n",
    "y=data['quality']\n",
    "\n",
    "from sklearn.feature_selection import VarianceThreshold\n",
    "vt=VarianceThreshold()  # default threshold=0.0\n",
    "vt.fit(X)\n",
    "cols=X.columns[vt.get_support()]  # Variance=0\n",
    "X[cols]\n",
    "\n",
    "# what is the threshold you need to keep: no answer\n",
    "\n",
    "# pH column is not removed which means its variance is not zero"
   ]
  },
  {
   "cell_type": "code",
   "execution_count": null,
   "id": "3138213d",
   "metadata": {},
   "outputs": [],
   "source": [
    "X['pH'].std()"
   ]
  },
  {
   "cell_type": "code",
   "execution_count": null,
   "id": "c6cd993d",
   "metadata": {},
   "outputs": [],
   "source": [
    "data.describe()"
   ]
  },
  {
   "cell_type": "code",
   "execution_count": 10,
   "id": "7c0ee79f",
   "metadata": {},
   "outputs": [],
   "source": [
    "import pandas as pd\n",
    "\n",
    "data=pd.read_csv(\"winequality_red.csv\")\n",
    "data.head()\n",
    "\n",
    "X=data.drop('quality',axis=1) \n",
    "y=data['quality']"
   ]
  },
  {
   "cell_type": "code",
   "execution_count": 11,
   "id": "0e5008a7",
   "metadata": {},
   "outputs": [
    {
     "name": "stdout",
     "output_type": "stream",
     "text": [
      "0.42315446843148774 1 volatile acidity\n",
      "0.44136281833126567 2 citric acid\n",
      "0.21694538946492997 4 chlorides\n",
      "0.04344345697389373 7 density\n",
      "0.39292043075353394 8 pH\n",
      "0.41171225338834616 9 sulphates\n"
     ]
    }
   ],
   "source": [
    "import numpy as np\n",
    "list_var=[]\n",
    "for i in X.columns:\n",
    "    list_var.append(np.sqrt(X[i].std()))\n",
    "    \n",
    "for i in list_var:\n",
    "    if i<1:\n",
    "        print(i,list_var.index(i),X.columns[list_var.index(i)])"
   ]
  },
  {
   "cell_type": "code",
   "execution_count": null,
   "id": "7ce53f62",
   "metadata": {},
   "outputs": [],
   "source": [
    "list1=['A','B']\n",
    "list1.index('A')"
   ]
  },
  {
   "cell_type": "markdown",
   "id": "fad1f25b",
   "metadata": {},
   "source": [
    "$Method-2$:\n",
    "    \n",
    "**Information gain**\n",
    "\n",
    "mutual info classify\n",
    "\n",
    "\n",
    "- It is value estimating how much relationship/how much information about target variable\n",
    "\n",
    "- 0 mean both variables are independent\n",
    "\n",
    "- Here will use entropy or KNN method"
   ]
  },
  {
   "cell_type": "code",
   "execution_count": null,
   "id": "03f76401",
   "metadata": {},
   "outputs": [],
   "source": [
    "import pandas as pd\n",
    "\n",
    "# Read the data\n",
    "data=pd.read_csv(\"winequality_red.csv\")\n",
    "\n",
    "#Sepearte input and target features\n",
    "X=data.drop('quality',axis=1) # X is dataframe\n",
    "y=data['quality']   # y is series type"
   ]
  },
  {
   "cell_type": "code",
   "execution_count": null,
   "id": "ecfb7731",
   "metadata": {},
   "outputs": [],
   "source": [
    "data.columns"
   ]
  },
  {
   "cell_type": "code",
   "execution_count": null,
   "id": "40f93a01",
   "metadata": {},
   "outputs": [],
   "source": [
    "#data[['fixed acidity', 'volatile acidity']]"
   ]
  },
  {
   "cell_type": "code",
   "execution_count": null,
   "id": "41ec66c8",
   "metadata": {},
   "outputs": [],
   "source": [
    "#YY=data['quality']\n",
    "#YY"
   ]
  },
  {
   "cell_type": "code",
   "execution_count": null,
   "id": "a1d4232e",
   "metadata": {},
   "outputs": [],
   "source": [
    "from sklearn.feature_selection import mutual_info_classif\n",
    "MI=mutual_info_classif(X,y)\n",
    "MI"
   ]
  },
  {
   "cell_type": "code",
   "execution_count": null,
   "id": "19919666",
   "metadata": {},
   "outputs": [],
   "source": [
    "len(MI)"
   ]
  },
  {
   "cell_type": "code",
   "execution_count": null,
   "id": "7b333417",
   "metadata": {},
   "outputs": [],
   "source": [
    "val=pd.Series(MI)\n",
    "val\n",
    "\n",
    "# I want replace index with column names"
   ]
  },
  {
   "cell_type": "code",
   "execution_count": null,
   "id": "4ec587c3",
   "metadata": {},
   "outputs": [],
   "source": [
    "#y"
   ]
  },
  {
   "cell_type": "code",
   "execution_count": null,
   "id": "8e4bea12",
   "metadata": {},
   "outputs": [],
   "source": [
    "#MI  # numpy array\n",
    "\n",
    "# Numpy array we are converting into series"
   ]
  },
  {
   "cell_type": "code",
   "execution_count": null,
   "id": "65527fce",
   "metadata": {},
   "outputs": [],
   "source": [
    "# Two methods almost enough\n",
    "# Constan features ==== you need to remove\n",
    "# Mutual information\n",
    "val=pd.Series(MI)    # index with series\n",
    "val.index=X.columns  # column with series\n",
    "val"
   ]
  },
  {
   "cell_type": "code",
   "execution_count": null,
   "id": "7cb1ffb8",
   "metadata": {},
   "outputs": [],
   "source": [
    "val.sort_values(ascending=True)\n"
   ]
  },
  {
   "cell_type": "code",
   "execution_count": null,
   "id": "2c401ba6",
   "metadata": {},
   "outputs": [],
   "source": [
    "val.sort_values(ascending=True).plot(kind='bar')\n"
   ]
  },
  {
   "cell_type": "markdown",
   "id": "9a59d828",
   "metadata": {},
   "source": [
    "is this suitable for both classification and regression sir mutual info\n",
    "\n",
    "at which step will do these feature selection\n",
    "\n",
    "why we are splitting : x and y\n",
    "    \n",
    "python code will allow X and y sepeartely\n",
    "\n",
    "thats why we are splitting\n",
    "\n",
    "ones we extract the important fetaures , those features used to develop a model\n",
    "\n"
   ]
  },
  {
   "cell_type": "code",
   "execution_count": null,
   "id": "1ca13efa",
   "metadata": {},
   "outputs": [],
   "source": [
    "import pandas as pd\n",
    "\n",
    "# Read the data\n",
    "data=pd.read_csv(\"winequality_red.csv\")\n",
    "\n",
    "#Sepearte input and target features\n",
    "X=data.drop('quality',axis=1) \n",
    "y=data['quality']\n",
    "\n",
    "from sklearn.feature_selection import mutual_info_classif\n",
    "MI=mutual_info_classif(X,y)\n",
    "\n",
    "print(MI)\n",
    "\n",
    "val=pd.Series(MI)\n",
    "print(val)\n",
    "val.index=X.columns\n",
    "\n",
    "val.sort_values(ascending=True)\n",
    "\n",
    "print(val)\n",
    "\n",
    "val.sort_values(ascending=True).plot(kind='bar')"
   ]
  },
  {
   "cell_type": "code",
   "execution_count": null,
   "id": "2fa68b02",
   "metadata": {},
   "outputs": [],
   "source": [
    "val.sort_values(ascending=True).index[:5]"
   ]
  },
  {
   "cell_type": "markdown",
   "id": "5d2ce30a",
   "metadata": {},
   "source": [
    "$SelectKbest$"
   ]
  },
  {
   "cell_type": "code",
   "execution_count": null,
   "id": "c2d31f58",
   "metadata": {},
   "outputs": [],
   "source": [
    "data=pd.read_csv(\"winequality_red.csv\")\n",
    "data.head()               "
   ]
  },
  {
   "cell_type": "code",
   "execution_count": 13,
   "id": "1aaa1975",
   "metadata": {},
   "outputs": [],
   "source": [
    "from sklearn.feature_selection import SelectKBest,mutual_info_classif\n",
    "import pandas as pd\n",
    "\n",
    "# Read the data\n",
    "data=pd.read_csv(\"winequality_red.csv\")\n",
    "\n",
    "#Sepearte input and target features\n",
    "X=data.drop('quality',axis=1) \n",
    "y=data['quality']\n",
    "\n",
    "# Assume that you did not done mutual info classii\n",
    "top_5=SelectKBest(mutual_info_classif,k=5)\n",
    "val=top_5.fit(X,y)"
   ]
  },
  {
   "cell_type": "code",
   "execution_count": null,
   "id": "095dca98",
   "metadata": {},
   "outputs": [],
   "source": [
    "dir(val)"
   ]
  },
  {
   "cell_type": "code",
   "execution_count": 14,
   "id": "bf4e0daa",
   "metadata": {},
   "outputs": [
    {
     "data": {
      "text/plain": [
       "array([False,  True, False, False, False, False,  True,  True, False,\n",
       "        True,  True])"
      ]
     },
     "execution_count": 14,
     "metadata": {},
     "output_type": "execute_result"
    }
   ],
   "source": [
    "val.get_support()"
   ]
  },
  {
   "cell_type": "code",
   "execution_count": 15,
   "id": "dbf0e743",
   "metadata": {},
   "outputs": [
    {
     "data": {
      "text/plain": [
       "array(['volatile acidity', 'total sulfur dioxide', 'density', 'sulphates',\n",
       "       'alcohol'], dtype=object)"
      ]
     },
     "execution_count": 15,
     "metadata": {},
     "output_type": "execute_result"
    }
   ],
   "source": [
    "val.get_feature_names_out()  # Which is True "
   ]
  },
  {
   "cell_type": "code",
   "execution_count": null,
   "id": "c448cd51",
   "metadata": {},
   "outputs": [],
   "source": [
    "val.get_params()  # whatever you pass inside package"
   ]
  },
  {
   "cell_type": "code",
   "execution_count": null,
   "id": "e1608dac",
   "metadata": {},
   "outputs": [],
   "source": [
    "val.scores_"
   ]
  },
  {
   "cell_type": "code",
   "execution_count": null,
   "id": "4902f720",
   "metadata": {},
   "outputs": [],
   "source": []
  },
  {
   "cell_type": "code",
   "execution_count": null,
   "id": "b8889637",
   "metadata": {},
   "outputs": [],
   "source": []
  },
  {
   "cell_type": "code",
   "execution_count": null,
   "id": "6bc63640",
   "metadata": {},
   "outputs": [],
   "source": []
  },
  {
   "cell_type": "code",
   "execution_count": null,
   "id": "6205d742",
   "metadata": {},
   "outputs": [],
   "source": []
  },
  {
   "cell_type": "code",
   "execution_count": null,
   "id": "1face454",
   "metadata": {},
   "outputs": [],
   "source": []
  }
 ],
 "metadata": {
  "kernelspec": {
   "display_name": "Python 3 (ipykernel)",
   "language": "python",
   "name": "python3"
  },
  "language_info": {
   "codemirror_mode": {
    "name": "ipython",
    "version": 3
   },
   "file_extension": ".py",
   "mimetype": "text/x-python",
   "name": "python",
   "nbconvert_exporter": "python",
   "pygments_lexer": "ipython3",
   "version": "0.0.0"
  }
 },
 "nbformat": 4,
 "nbformat_minor": 5
}
